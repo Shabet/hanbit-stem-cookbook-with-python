{
 "cells": [
  {
   "cell_type": "markdown",
   "metadata": {},
   "source": [
    "# 6.1 LU 분해"
   ]
  },
  {
   "cell_type": "markdown",
   "metadata": {},
   "source": [
    "예제 6-1"
   ]
  },
  {
   "cell_type": "code",
   "execution_count": 1,
   "metadata": {},
   "outputs": [
    {
     "name": "stdout",
     "output_type": "stream",
     "text": [
      "E_1*A = \n",
      " [[ 1  2  0]\n",
      " [ 0  1  2]\n",
      " [ 0 -4  1]]\n",
      "\n",
      "\n",
      "U = E_2*(E_1*A) = \n",
      " [[1 2 0]\n",
      " [0 1 2]\n",
      " [0 0 9]]\n",
      "\n",
      "\n",
      "L = (E_2*E_1)^-1 = E_1^-1*E_2^-1 = \n",
      " [[ 1. -0. -0.]\n",
      " [ 0.  1.  0.]\n",
      " [ 2. -4.  1.]]\n",
      "\n",
      "\n",
      "LU = \n",
      " [[1. 2. 0.]\n",
      " [0. 1. 2.]\n",
      " [2. 0. 1.]]\n",
      "\n",
      "\n"
     ]
    }
   ],
   "source": [
    "import numpy as np\n",
    "\n",
    "A = np.array([[1,2,0],[0,1,2],[2,0,1]])\n",
    "E_1 = np.array([[1,0,0],[0,1,0],[-2,0,1]])\n",
    "E_2 = np.array([[1,0,0],[0,1,0],[0,4,1]])\n",
    "\n",
    "# 행렬 E_1*A 계산\n",
    "print(\"E_1*A = \\n\", np.dot(E_1,A))\n",
    "print(\"\\n\")\n",
    "\n",
    "# 행렬 U = E_2*(E_1*A) 계산\n",
    "U = np.dot(E_2,np.dot(E_1,A))\n",
    "print(\"U = E_2*(E_1*A) = \\n\", U)\n",
    "print(\"\\n\")\n",
    "\n",
    "# 행렬 L = (E_2*E_1)^-1 계산\n",
    "L = np.linalg.inv(np.dot(E_2,E_1))\n",
    "print(\"L = (E_2*E_1)^-1 = E_1^-1*E_2^-1 = \\n\", L)\n",
    "print(\"\\n\")\n",
    "\n",
    "# A=LU 확인\n",
    "print(\"LU = \\n\", np.dot(L,U))\n",
    "print(\"\\n\")"
   ]
  },
  {
   "cell_type": "markdown",
   "metadata": {},
   "source": [
    "예제 6-2"
   ]
  },
  {
   "cell_type": "code",
   "execution_count": 2,
   "metadata": {},
   "outputs": [
    {
     "name": "stdout",
     "output_type": "stream",
     "text": [
      "E_1*A = \n",
      " [[1 1 1]\n",
      " [0 0 0]\n",
      " [1 1 1]]\n",
      "\n",
      "\n",
      "U = E_2*(E_1*A) = \n",
      " [[1 1 1]\n",
      " [0 0 0]\n",
      " [0 0 0]]\n",
      "\n",
      "\n",
      "L = (E_2*E_1)^-1 = E_1^-1*E_2^-1 = \n",
      " [[1. 0. 0.]\n",
      " [1. 1. 0.]\n",
      " [1. 0. 1.]]\n",
      "\n",
      "\n",
      "LU = \n",
      " [[1. 1. 1.]\n",
      " [1. 1. 1.]\n",
      " [1. 1. 1.]]\n",
      "\n",
      "\n"
     ]
    }
   ],
   "source": [
    "import numpy as np\n",
    "\n",
    "A = np.array([[1,1,1],[1,1,1],[1,1,1]])\n",
    "E_1 = np.array([[1,0,0],[-1,1,0],[0,0,1]])\n",
    "E_2 = np.array([[1,0,0],[0,1,0],[-1,0,1]])\n",
    "\n",
    "# 행렬 E_1*A 계산\n",
    "print(\"E_1*A = \\n\", np.dot(E_1,A))\n",
    "print(\"\\n\")\n",
    "\n",
    "# 행렬 U = E_2*(E_1*A) 계산\n",
    "U = np.dot(E_2,np.dot(E_1,A))\n",
    "print(\"U = E_2*(E_1*A) = \\n\", U)\n",
    "print(\"\\n\")\n",
    "\n",
    "# 행렬 L = (E_2*E_1)^-1 계산\n",
    "L = np.linalg.inv(np.dot(E_2,E_1))\n",
    "print(\"L = (E_2*E_1)^-1 = E_1^-1*E_2^-1 = \\n\", L)\n",
    "print(\"\\n\")\n",
    "\n",
    "# A=LU 확인\n",
    "print(\"LU = \\n\", np.dot(L,U))\n",
    "print(\"\\n\")"
   ]
  },
  {
   "cell_type": "markdown",
   "metadata": {},
   "source": [
    "예제 6-3"
   ]
  },
  {
   "cell_type": "code",
   "execution_count": 3,
   "metadata": {},
   "outputs": [
    {
     "name": "stdout",
     "output_type": "stream",
     "text": [
      "P*A = \n",
      " [[1 1 1]\n",
      " [0 1 1]\n",
      " [1 1 0]]\n",
      "\n",
      "\n",
      "U = E_1*(P*A) = \n",
      " [[ 1  1  1]\n",
      " [ 0  1  1]\n",
      " [ 0  0 -1]]\n",
      "\n",
      "\n",
      "L = E_1^-1 = \n",
      " [[1. 0. 0.]\n",
      " [0. 1. 0.]\n",
      " [1. 0. 1.]]\n",
      "\n",
      "\n",
      "P*A = L*U = \n",
      " [[1. 1. 1.]\n",
      " [0. 1. 1.]\n",
      " [1. 1. 0.]]\n",
      "\n",
      "\n",
      "A = P*(L*U) = \n",
      " [[1. 1. 1.]\n",
      " [1. 1. 0.]\n",
      " [0. 1. 1.]]\n",
      "\n",
      "\n"
     ]
    }
   ],
   "source": [
    "import numpy as np\n",
    "\n",
    "A = np.array([[1,1,1],[1,1,0],[0,1,1]])\n",
    "P = np.array([[1,0,0],[0,0,1],[0,1,0]])\n",
    "E_1 = np.array([[1,0,0],[0,1,0],[-1,0,1]])\n",
    "E_2 = np.array([[1,0,0],[1,1,0],[0,1,1]])\n",
    "\n",
    "# 행렬 P*A 계산\n",
    "print(\"P*A = \\n\", np.dot(P,A))\n",
    "print(\"\\n\")\n",
    "\n",
    "# 행렬 U = E_1*(P*A) 계산\n",
    "U = np.dot(E_1,np.dot(P,A))\n",
    "print(\"U = E_1*(P*A) = \\n\", U)\n",
    "print(\"\\n\")\n",
    "\n",
    "# 행렬 L = E_1^-1 계산\n",
    "L = np.linalg.inv(E_1)\n",
    "print(\"L = E_1^-1 = \\n\", L)\n",
    "print(\"\\n\")\n",
    "\n",
    "# P*A=L*U 확인\n",
    "print(\"P*A = L*U = \\n\", np.dot(L,U))\n",
    "print(\"\\n\")\n",
    "\n",
    "# A = P*(L*U) 확인\n",
    "print(\"A = P*(L*U) = \\n\", np.dot(P,np.dot(L,U)))\n",
    "print(\"\\n\")"
   ]
  },
  {
   "cell_type": "markdown",
   "metadata": {},
   "source": [
    "# 6.2 특잇값 분해"
   ]
  },
  {
   "cell_type": "markdown",
   "metadata": {},
   "source": [
    "예제 6-6"
   ]
  },
  {
   "cell_type": "code",
   "execution_count": 4,
   "metadata": {},
   "outputs": [
    {
     "name": "stdout",
     "output_type": "stream",
     "text": [
      "A = \n",
      " [[1 2 0]\n",
      " [0 1 2]]\n",
      "\n",
      "\n",
      "U= \n",
      " [[-0.70710678 -0.70710678]\n",
      " [-0.70710678  0.70710678]]\n",
      "\n",
      "\n",
      "Sigma = \n",
      " [[2.64575131 0.         0.        ]\n",
      " [0.         1.73205081 0.        ]]\n",
      "\n",
      "\n",
      "V^T = \n",
      " [[-0.26726124 -0.80178373 -0.53452248]\n",
      " [-0.40824829 -0.40824829  0.81649658]\n",
      " [ 0.87287156 -0.43643578  0.21821789]]\n",
      "\n",
      "\n"
     ]
    }
   ],
   "source": [
    "import numpy as np\n",
    "\n",
    "# 행렬 A의 특잇값 분해\n",
    "A = np.array([[1, 2, 0], [0,1,2]])\n",
    "print(\"A = \\n\", A)\n",
    "print(\"\\n\")\n",
    "\n",
    "U, Sig, VT = np.linalg.svd(A) # 특잇값 분해\n",
    "print(\"U= \\n\", U)\n",
    "print(\"\\n\")\n",
    "\n",
    "m, n = A.shape\n",
    "Sigma = np.zeros((m, n)) # m×n 행렬 Σ\n",
    "k = np.size(Sig)\n",
    "Sigma[:k, :k] = np.diag(Sig) # 특잇값\n",
    "print(\"Sigma = \\n\", Sigma)\n",
    "print(\"\\n\")\n",
    "\n",
    "print(\"V^T = \\n\", VT) # n×n 행렬 V^T\n",
    "print(\"\\n\")"
   ]
  },
  {
   "cell_type": "markdown",
   "metadata": {},
   "source": [
    "# CH 6 프로그래밍 실습"
   ]
  },
  {
   "cell_type": "markdown",
   "metadata": {},
   "source": [
    "6.1 LU 분해 함수를 이용하여 다음과 같은 정방행렬 A를 LU 분해하라."
   ]
  },
  {
   "cell_type": "code",
   "execution_count": 5,
   "metadata": {},
   "outputs": [
    {
     "name": "stdout",
     "output_type": "stream",
     "text": [
      "A = \n",
      " [[  1   2   1]\n",
      " [  2   3   3]\n",
      " [ -3 -10   2]]\n",
      "\n",
      "\n",
      "L = \n",
      " [[ 1.  0.  0.]\n",
      " [ 2.  1.  0.]\n",
      " [-3.  4.  1.]]\n",
      "\n",
      "\n",
      "U = \n",
      " [[ 1.  2.  1.]\n",
      " [ 0. -1.  1.]\n",
      " [ 0.  0.  1.]]\n",
      "\n",
      "\n"
     ]
    }
   ],
   "source": [
    "import numpy as np\n",
    "\n",
    "# LU 분해 함수\n",
    "def LU_decomp(A):\n",
    "    (n,m) = A.shape\n",
    "    L = np.zeros((n,n)) # 빈 행렬 L 만들기\n",
    "    U = np.zeros((n,n)) # 빈 행렬 U 만들기\n",
    "    # 행렬 L과 U 계산\n",
    "    for i in range(0, n):\n",
    "        for j in range(i, n):\n",
    "            U[i, j] = A[i, j]\n",
    "            for k in range(0, i):\n",
    "                U[i, j] = U[i, j] - L[i, k]*U[k, j]\n",
    "        L[i,i] = 1\n",
    "        if i < n-1:\n",
    "            p = i + 1\n",
    "            for j in range(0,p):\n",
    "                L[p, j] = A[p, j]\n",
    "                for k in range(0, j):\n",
    "                    L[p, j] = L[p, j] - L[p, k]*U[k, j]\n",
    "                    L[p,j] = L[p,j]/U[j,j]\n",
    "    return L, U\n",
    "\n",
    "A = np.array([[1, 2, 1], [2, 3, 3], [-3, -10, 2]])\n",
    "\n",
    "# 행렬 A의 LU 분해\n",
    "L, U = LU_decomp(A)\n",
    "\n",
    "print(\"A = \\n\", A)\n",
    "print(\"\\n\")\n",
    "print(\"L = \\n\", L)\n",
    "print(\"\\n\")\n",
    "print(\"U = \\n\", U)\n",
    "print(\"\\n\")"
   ]
  },
  {
   "cell_type": "markdown",
   "metadata": {},
   "source": [
    "6.2  [프로그래밍 실습 6.1]의 LU 분해 함수를 이용하여 A와 b을 입력하여 Ax=b의 해를 구하라."
   ]
  },
  {
   "cell_type": "code",
   "execution_count": 6,
   "metadata": {},
   "outputs": [
    {
     "name": "stdout",
     "output_type": "stream",
     "text": [
      "x = \n",
      " [[-58.]\n",
      " [ 21.]\n",
      " [ 18.]]\n"
     ]
    }
   ],
   "source": [
    "import numpy as np\n",
    "# [프로그래밍 실습 6.1]의 LU 분해 함수\n",
    "def LU_decomp(A):\n",
    "    (n,m) = A.shape\n",
    "    L = np.zeros((n,n)) # 빈 행렬 L 만들기\n",
    "    U = np.zeros((n,n)) # 빈 행렬 U 만들기\n",
    "    # 행렬 L과 U 계산\n",
    "    for i in range(0, n):\n",
    "        for j in range(i, n):\n",
    "            U[i, j] = A[i, j]\n",
    "            for k in range(0, i):\n",
    "                U[i, j] = U[i, j] - L[i, k]*U[k, j]\n",
    "        L[i,i] = 1\n",
    "        if i < n-1:\n",
    "            p = i + 1\n",
    "            for j in range(0,p):\n",
    "                L[p, j] = A[p, j]\n",
    "                for k in range(0, j):\n",
    "                    L[p, j] = L[p, j] - L[p, k]*U[k, j]\n",
    "                    L[p,j] = L[p,j]/U[j,j]\n",
    "    return L, U\n",
    "\n",
    "# LU 분해를 이용하여 Ax=b의 해를 구하는 함수\n",
    "def LU_Solver(A, b):\n",
    "    L, U = LU_decomp(A)\n",
    "    n = len(L)\n",
    "    # Ly=b 계산\n",
    "    y = np.zeros((n,1))\n",
    "    for i in range(0,n):\n",
    "        y[i] = b[i]\n",
    "        for k in range(0,i):\n",
    "            y[i] -= y[k]*L[i,k]\n",
    "    # Ux=y 계산\n",
    "    x = np.zeros((n,1))\n",
    "    for i in range(n-1, -1, -1):\n",
    "        x[i] = y[i]\n",
    "        if i < n-1:\n",
    "            for k in range(i+1,n):\n",
    "                x[i] -= x[k]*U[i,k]\n",
    "        x[i] = x[i]/float(U[i,i])\n",
    "    return x\n",
    "\n",
    "A = np.array([[1, 2, 1], [2, 3, 3], [-3, -10, 2]])\n",
    "b = np.array([[2], [1], [0]])\n",
    "\n",
    "# LU 분해를 이용하여 Ax=b의 해 구하기\n",
    "x = LU_Solver(A,b)\n",
    "print(\"x = \\n\", x)"
   ]
  },
  {
   "cell_type": "markdown",
   "metadata": {},
   "source": [
    "6.3 다음 두 행렬을 특잇값 분해하라."
   ]
  },
  {
   "cell_type": "code",
   "execution_count": 7,
   "metadata": {},
   "outputs": [
    {
     "name": "stdout",
     "output_type": "stream",
     "text": [
      "A = \n",
      " [[6 4]\n",
      " [0 0]\n",
      " [4 0]]\n",
      "\n",
      "\n",
      "U= \n",
      " [[-0.89442719 -0.4472136   0.        ]\n",
      " [ 0.          0.          1.        ]\n",
      " [-0.4472136   0.89442719  0.        ]]\n",
      "\n",
      "\n",
      "Sigma = \n",
      " [[8. 0.]\n",
      " [0. 2.]\n",
      " [0. 0.]]\n",
      "\n",
      "\n",
      "V^T = \n",
      " [[-0.89442719 -0.4472136 ]\n",
      " [ 0.4472136  -0.89442719]]\n",
      "\n",
      "\n",
      "B = \n",
      " [[ 1  1 -1]\n",
      " [ 0  1  1]]\n",
      "\n",
      "\n",
      "U= \n",
      " [[1. 0.]\n",
      " [0. 1.]]\n",
      "\n",
      "\n",
      "Sigma = \n",
      " [[1.73205081 0.         0.        ]\n",
      " [0.         1.41421356 0.        ]]\n",
      "\n",
      "\n",
      "V^T = \n",
      " [[ 5.77350269e-01  5.77350269e-01 -5.77350269e-01]\n",
      " [ 8.75605293e-17  7.07106781e-01  7.07106781e-01]\n",
      " [ 8.16496581e-01 -4.08248290e-01  4.08248290e-01]]\n",
      "\n",
      "\n"
     ]
    }
   ],
   "source": [
    "import numpy as np\n",
    "\n",
    "# 행렬 A의 특잇값 분해\n",
    "A = np.array([[6, 4], [0,0], [4,0]])\n",
    "print(\"A = \\n\", A)\n",
    "print(\"\\n\")\n",
    "\n",
    "U, Sig, VT = np.linalg.svd(A) # 특잇값 분해\n",
    "print(\"U= \\n\", U)\n",
    "print(\"\\n\")\n",
    "\n",
    "m, n = A.shape\n",
    "Sigma = np.zeros((m, n)) # m×n 행렬 Σ\n",
    "k = np.size(Sig)\n",
    "Sigma[:k, :k] = np.diag(Sig) # 특잇값\n",
    "print(\"Sigma = \\n\", Sigma)\n",
    "print(\"\\n\")\n",
    "print(\"V^T = \\n\", VT) # n×n 행렬 V^T\n",
    "print(\"\\n\")\n",
    "\n",
    "# 행렬 B 의 특잇값 분해\n",
    "B = np.array([[1, 1, -1], [0,1,1]])\n",
    "print(\"B = \\n\", B)\n",
    "print(\"\\n\")\n",
    "\n",
    "U, Sig, VT = np.linalg.svd(B) # 특잇값 분해\n",
    "print(\"U= \\n\", U)\n",
    "print(\"\\n\")\n",
    "\n",
    "m, n = B.shape\n",
    "Sigma = np.zeros((m, n)) # m×n 행렬 Σ\n",
    "k = np.size(Sig)\n",
    "Sigma[:k, :k] = np.diag(Sig) # 특잇값\n",
    "print(\"Sigma = \\n\", Sigma)\n",
    "print(\"\\n\")\n",
    "print(\"V^T = \\n\", VT) # n×n 행렬 V^T\n",
    "print(\"\\n\")"
   ]
  }
 ],
 "metadata": {
  "kernelspec": {
   "display_name": "Python 3",
   "language": "python",
   "name": "python3"
  },
  "language_info": {
   "codemirror_mode": {
    "name": "ipython",
    "version": 3
   },
   "file_extension": ".py",
   "mimetype": "text/x-python",
   "name": "python",
   "nbconvert_exporter": "python",
   "pygments_lexer": "ipython3",
   "version": "3.6.12"
  }
 },
 "nbformat": 4,
 "nbformat_minor": 4
}
