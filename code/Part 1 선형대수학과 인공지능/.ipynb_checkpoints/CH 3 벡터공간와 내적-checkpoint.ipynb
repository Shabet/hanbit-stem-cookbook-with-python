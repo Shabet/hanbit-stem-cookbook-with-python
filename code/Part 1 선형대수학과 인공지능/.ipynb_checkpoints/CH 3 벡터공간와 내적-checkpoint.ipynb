{
 "cells": [
  {
   "cell_type": "markdown",
   "metadata": {},
   "source": [
    "# 3.1 벡터와 벡터 공간"
   ]
  },
  {
   "cell_type": "markdown",
   "metadata": {},
   "source": [
    "예제 3-4"
   ]
  },
  {
   "cell_type": "code",
   "execution_count": 1,
   "metadata": {},
   "outputs": [
    {
     "name": "stdout",
     "output_type": "stream",
     "text": [
      "2*a + 3*b =  [ 8  3 12]\n"
     ]
    }
   ],
   "source": [
    "import numpy as np\n",
    "\n",
    "a = np.array([1,0,3])\n",
    "b = np.array([2,1,2])\n",
    "\n",
    "# 2a+3b\n",
    "print(\"2*a + 3*b = \", 2*a + 3*b)"
   ]
  },
  {
   "cell_type": "markdown",
   "metadata": {},
   "source": [
    "예제 3-10"
   ]
  },
  {
   "cell_type": "code",
   "execution_count": 2,
   "metadata": {},
   "outputs": [
    {
     "name": "stdout",
     "output_type": "stream",
     "text": [
      "Norm of x =  3.0\n"
     ]
    }
   ],
   "source": [
    "import numpy as np\n",
    "\n",
    "# 노름을 구하는 함수\n",
    "# np.sqrt(q) : sqrt {q} 계산\n",
    "# np.sum() : () 안에 있는 숫자의 합\n",
    "\n",
    "def cal_norm(vec1):\n",
    "    norm_vec = np.sqrt(np.sum(vec1*vec1))\n",
    "    return norm_vec\n",
    "\n",
    "# x의 노름 계산\n",
    "x = np.array([1,2,0,2])\n",
    "print(\"Norm of x = \", cal_norm(x))"
   ]
  },
  {
   "cell_type": "markdown",
   "metadata": {},
   "source": [
    "# 3.2 벡터의 내적"
   ]
  },
  {
   "cell_type": "markdown",
   "metadata": {},
   "source": [
    "예제 3-12"
   ]
  },
  {
   "cell_type": "code",
   "execution_count": 3,
   "metadata": {},
   "outputs": [
    {
     "name": "stdout",
     "output_type": "stream",
     "text": [
      "Inner product of x and y =  7\n",
      "\n",
      "\n",
      "Inner product of y and z =  0\n"
     ]
    }
   ],
   "source": [
    "import numpy as np\n",
    "\n",
    "# 내적을 구하는 함수\n",
    "def cal_innerproduct(vec1, vec2):\n",
    "    innerprod_vecs = np.sum(vec1*vec2)\n",
    "    return innerprod_vecs\n",
    "\n",
    "# x와 y의 내적 계산\n",
    "x = np.array([1,2,3,-1])\n",
    "y = np.array([0,1,2,1])\n",
    "print(\"Inner product of x and y = \", cal_innerproduct(x, y))\n",
    "print(\"\\n\")\n",
    "\n",
    "# y와 z의 내적 계산\n",
    "y = np.array([0,1,2,1])\n",
    "z = np.array([2023,1,-1,1])\n",
    "print(\"Inner product of y and z = \", cal_innerproduct(y, z))"
   ]
  },
  {
   "cell_type": "markdown",
   "metadata": {},
   "source": [
    "예제 3-13"
   ]
  },
  {
   "cell_type": "code",
   "execution_count": 4,
   "metadata": {},
   "outputs": [
    {
     "name": "stdout",
     "output_type": "stream",
     "text": [
      "Inner product of x and y =  5.196152422706632\n"
     ]
    }
   ],
   "source": [
    "import numpy as np\n",
    "\n",
    "# 내적을 구하는 함수\n",
    "# np.cos() : ()의 코사인 값\n",
    "# np.pi : 𝛑\n",
    "def cal_innerproduct_v2(norm_vec1, norm_vec2, angle):\n",
    "    denominator = 180/angle\n",
    "    innerprod_vecs = norm_vec1 * norm_vec2 *np.cos(np.pi/denominator)\n",
    "    return innerprod_vecs\n",
    "\n",
    "# x와 y의 내적 계산\n",
    "norm_x = 2\n",
    "norm_y = 3\n",
    "angle = 30\n",
    "print(\"Inner product of x and y = \", cal_innerproduct_v2(norm_x, norm_y, angle))"
   ]
  },
  {
   "cell_type": "markdown",
   "metadata": {},
   "source": [
    "예제 3-14"
   ]
  },
  {
   "cell_type": "code",
   "execution_count": 5,
   "metadata": {},
   "outputs": [
    {
     "name": "stdout",
     "output_type": "stream",
     "text": [
      "Cauchy-Schwarz inequality is True\n"
     ]
    }
   ],
   "source": [
    "import numpy as np\n",
    "\n",
    "# 코시-슈바르츠 부등식을 확인하는 함수\n",
    "# np.abs() : ()의 절댓값\n",
    "def check_Cauchy_Schwarz_inequality(vec1, vec2):\n",
    "    innerprod_vecs = np.sum(vec1*vec2)\n",
    "    norm_vec1 = np.sqrt(np.sum(vec1*vec1))\n",
    "    norm_vec2 = np.sqrt(np.sum(vec2*vec2))\n",
    "    check_CS_inequal = np.abs(innerprod_vecs) <= norm_vec1*norm_vec2\n",
    "    return check_CS_inequal\n",
    "\n",
    "# x와 y로 확인\n",
    "x = np.array([1,-1,3])\n",
    "y = np.array([1,1,3])\n",
    "print(\"Cauchy-Schwarz inequality is\", check_Cauchy_Schwarz_inequality(x,y))"
   ]
  },
  {
   "cell_type": "markdown",
   "metadata": {},
   "source": [
    "예제 3-15"
   ]
  },
  {
   "cell_type": "code",
   "execution_count": 6,
   "metadata": {},
   "outputs": [
    {
     "name": "stdout",
     "output_type": "stream",
     "text": [
      "Orthogonal of x and y is True\n",
      "\n",
      "\n",
      "Orthogonal of y and z is False\n",
      "\n",
      "\n",
      "Orthogonal of x and z is True\n"
     ]
    }
   ],
   "source": [
    "import numpy as np\n",
    "\n",
    "# 직교성을 확인하는 함수\n",
    "def check_Orthogonal(vec1, vec2):\n",
    "    innerprod_vecs = np.sum(vec1*vec2)\n",
    "    check_Orthogonal = innerprod_vecs == 0\n",
    "    return check_Orthogonal\n",
    "\n",
    "# x와 y로 확인\n",
    "x = np.array([2,-5,1])\n",
    "y = np.array([2,1,1])\n",
    "print(\"Orthogonal of x and y is\", check_Orthogonal(x,y))\n",
    "print(\"\\n\")\n",
    "\n",
    "# y와 z로 확인\n",
    "y = np.array([2,1,1])\n",
    "z = np.array([4,1,-3])\n",
    "print(\"Orthogonal of y and z is\", check_Orthogonal(y,z))\n",
    "print(\"\\n\")\n",
    "\n",
    "# x와 z로 확인\n",
    "x = np.array([2,-5,1])\n",
    "z = np.array([4,1,-3])\n",
    "print(\"Orthogonal of x and z is\", check_Orthogonal(x,z))"
   ]
  },
  {
   "cell_type": "markdown",
   "metadata": {},
   "source": [
    "예제 3-17"
   ]
  },
  {
   "cell_type": "code",
   "execution_count": 7,
   "metadata": {},
   "outputs": [
    {
     "name": "stdout",
     "output_type": "stream",
     "text": [
      "Projection of x onto y =  [1. 0.]\n"
     ]
    }
   ],
   "source": [
    "import numpy as np\n",
    "\n",
    "# 정사영을 구하는 함수\n",
    "def proj_a_b(vec_1, vec_2):\n",
    "    p = (np.dot(vec_1, vec_2)/np.dot(vec_2, vec_2))*vec_2\n",
    "    return p\n",
    "\n",
    "x = np.array([1, 1])\n",
    "y = np.array([2, 0])\n",
    "print(\"Projection of x onto y = \", proj_a_b(x, y))"
   ]
  },
  {
   "cell_type": "markdown",
   "metadata": {},
   "source": [
    "예제 3-18"
   ]
  },
  {
   "cell_type": "code",
   "execution_count": 8,
   "metadata": {},
   "outputs": [
    {
     "name": "stdout",
     "output_type": "stream",
     "text": [
      "Projection of x onto y =  [4.7027027  0.78378378]\n"
     ]
    }
   ],
   "source": [
    "import numpy as np\n",
    "\n",
    "# 정사영을 구하는 함수\n",
    "def proj_a_b(vec_1, vec_2):\n",
    "    p = (np.dot(vec_1, vec_2)/np.dot(vec_2, vec_2))*vec_2\n",
    "    return p\n",
    "\n",
    "x = np.array([4, 5])\n",
    "y = np.array([6, 1])\n",
    "print(\"Projection of x onto y = \", proj_a_b(x, y))"
   ]
  },
  {
   "cell_type": "markdown",
   "metadata": {},
   "source": [
    "예제 3-22"
   ]
  },
  {
   "cell_type": "code",
   "execution_count": 9,
   "metadata": {},
   "outputs": [
    {
     "name": "stdout",
     "output_type": "stream",
     "text": [
      "Hamming distance =  4\n"
     ]
    }
   ],
   "source": [
    "import numpy as np\n",
    "\n",
    "# 해밍 거리를 구하는 함수\n",
    "# len(vec) : vec의 성분 개수\n",
    "def cal_hamming_dist(vec1, vec2):\n",
    "    Num_vec = len(vec1)\n",
    "    hamming_dist = 0\n",
    "    for i in range(Num_vec):\n",
    "        if vec1[i] != vec2[i]:\n",
    "            hamming_dist = hamming_dist+1\n",
    "    return hamming_dist\n",
    "\n",
    "# v와 w 사이의 해밍 거리 계산\n",
    "v = np.array([0,1,1,0,1])\n",
    "w = np.array([1,1,0,1,0])\n",
    "print(\"Hamming distance = \", cal_hamming_dist(v,w))"
   ]
  },
  {
   "cell_type": "markdown",
   "metadata": {},
   "source": [
    "예제 3-23"
   ]
  },
  {
   "cell_type": "code",
   "execution_count": 10,
   "metadata": {},
   "outputs": [
    {
     "name": "stdout",
     "output_type": "stream",
     "text": [
      "Manhattan distance =  4\n"
     ]
    }
   ],
   "source": [
    "import numpy as np\n",
    "\n",
    "# 맨하튼 거리를 구하는 함수\n",
    "def cal_Manhattan_dist(vec1, vec2):\n",
    "    Manhattan_dist = np.sum(np.abs(vec1-vec2))\n",
    "    return Manhattan_dist\n",
    "\n",
    "# A=(1,1), B=(3,3)이라 할 때, 두 점 A, B 사이의 맨하튼 거리 계산\n",
    "A = np.array([1,1])\n",
    "B = np.array([3,3])\n",
    "print(\"Manhattan distance = \", cal_Manhattan_dist(A,B))"
   ]
  },
  {
   "cell_type": "markdown",
   "metadata": {},
   "source": [
    "# 3.3 벡터의 미분 "
   ]
  },
  {
   "cell_type": "markdown",
   "metadata": {},
   "source": [
    "예제 3-24"
   ]
  },
  {
   "cell_type": "code",
   "execution_count": 11,
   "metadata": {},
   "outputs": [
    {
     "name": "stdout",
     "output_type": "stream",
     "text": [
      "(a) gradient of f = \n",
      " [[y*z]\n",
      " [x*z]\n",
      " [x*y]]\n",
      "\n",
      "\n",
      "(b) gradient of f = \n",
      " [[2*x*y**3 + y*exp(x*y)]\n",
      " [3*x**2*y**2 + x*exp(x*y)]\n",
      " [2*z]]\n"
     ]
    }
   ],
   "source": [
    "from sympy import *\n",
    "import numpy as np\n",
    "\n",
    "# 문제 (a)\n",
    "# symbols('x') : x를 미지수로 선언\n",
    "# diff(f, x) : 함수 f를 x로 미분\n",
    "x, y, z = symbols('x y z')\n",
    "f = x*y*z\n",
    "\n",
    "df_dx = diff(f, x)\n",
    "df_dy = diff(f, y)\n",
    "df_dz = diff(f, z)\n",
    "\n",
    "gradient_f_1 = np.array([[df_dx], [df_dy], [df_dz]])\n",
    "print(\"(a) gradient of f = \\n\", gradient_f_1)\n",
    "print(\"\\n\")\n",
    "\n",
    "# 문제 (b)\n",
    "x, y, z = symbols('x y z')\n",
    "f = x**2*y**3+z**2+exp(x*y)\n",
    "\n",
    "df_dx = diff(f, x)\n",
    "df_dy = diff(f, y)\n",
    "df_dz = diff(f, z)\n",
    "\n",
    "gradient_f_1 = np.array([[df_dx], [df_dy], [df_dz]])\n",
    "print(\"(b) gradient of f = \\n\", gradient_f_1)"
   ]
  },
  {
   "cell_type": "markdown",
   "metadata": {},
   "source": [
    "예제 3-25"
   ]
  },
  {
   "cell_type": "code",
   "execution_count": 12,
   "metadata": {},
   "outputs": [
    {
     "name": "stdout",
     "output_type": "stream",
     "text": [
      "Jacobian of F = \n",
      " [[1 cos(y) 0]\n",
      " [-1 -x*sin(y) 2*y*exp(3*z)]\n",
      " [2*z 0 3*y**2*exp(3*z)]]\n"
     ]
    }
   ],
   "source": [
    "from sympy import *\n",
    "import numpy as np\n",
    "\n",
    "x, y, z = symbols('x y z')\n",
    "F_1 = x-y+z**2\n",
    "F_2 = x*cos(y)\n",
    "F_3 = y**2*exp(3*z)\n",
    "\n",
    "# F1, F2, F3를 x로 미분\n",
    "df1_dx = diff(F_1, x)\n",
    "df2_dx = diff(F_2, x)\n",
    "df3_dx = diff(F_3, x)\n",
    "\n",
    "# F1, F2, F3를 y로 미분\n",
    "df1_dy = diff(F_1, y)\n",
    "df2_dy = diff(F_2, y)\n",
    "df3_dy = diff(F_3, y)\n",
    "\n",
    "# F1, F2, F3를 z로 미분\n",
    "df1_dz = diff(F_1, z)\n",
    "df2_dz = diff(F_2, z)\n",
    "df3_dz = diff(F_3, z)\n",
    "\n",
    "Jacobian_F = np.array([[df1_dx, df2_dx, df3_dx], [df1_dy, df2_dy, df3_dy], [df1_dz, df2_dz, df3_dz]])\n",
    "print(\"Jacobian of F = \\n\", Jacobian_F)"
   ]
  },
  {
   "cell_type": "markdown",
   "metadata": {},
   "source": [
    "예제 3-26"
   ]
  },
  {
   "cell_type": "code",
   "execution_count": 13,
   "metadata": {},
   "outputs": [
    {
     "name": "stdout",
     "output_type": "stream",
     "text": [
      "Hessian of f = \n",
      " [[2 0 0]\n",
      " [0 -2 0]\n",
      " [0 0 6*z]]\n"
     ]
    }
   ],
   "source": [
    "from sympy import *\n",
    "import numpy as np\n",
    "\n",
    "# diff(f, x, n) : 함수 f를 x로 n번 미분\n",
    "# diff(f, x, y) : 함수 f를 x와 y 순으로 미분\n",
    "\n",
    "x, y, z = symbols('x y z')\n",
    "f = x**2-y**2+z**3\n",
    "\n",
    "d2f_dx2 = diff(f, x, 2)\n",
    "d2f_dyx = diff(f, y, x)\n",
    "d2f_dzx = diff(f, z, x)\n",
    "\n",
    "d2f_dxy = diff(f, x, y)\n",
    "d2f_dy2 = diff(f, y, 2)\n",
    "d2f_dzy = diff(f, z, y)\n",
    "\n",
    "d2f_dxz = diff(f, x, z)\n",
    "d2f_dyz = diff(f, y, z)\n",
    "d2f_dz2 = diff(f, z, 2)\n",
    "\n",
    "Hessian_f = np.array([[d2f_dx2, d2f_dyx, d2f_dzx], \n",
    "                      [d2f_dxy, d2f_dy2, d2f_dzy], \n",
    "                      [d2f_dxz, d2f_dyz, d2f_dz2]])\n",
    "\n",
    "print(\"Hessian of f = \\n\", Hessian_f)"
   ]
  },
  {
   "cell_type": "markdown",
   "metadata": {},
   "source": [
    "예제 3-27"
   ]
  },
  {
   "cell_type": "code",
   "execution_count": 14,
   "metadata": {
    "scrolled": true
   },
   "outputs": [
    {
     "name": "stdout",
     "output_type": "stream",
     "text": [
      "(a) Laplacian of f = \n",
      " 6*x + 2\n",
      "\n",
      "\n",
      "(b) Laplacian of f = \n",
      " 6*x*y*z**2 + x*y*(2*x**2 + y*exp(y*z)) + x*z**2*exp(y*z) - 2*cos(y)\n"
     ]
    }
   ],
   "source": [
    "from sympy import *\n",
    "import numpy as np\n",
    "\n",
    "# 문제 (a)\n",
    "x, y = symbols('x y')\n",
    "f = x**3+2*x+y**2\n",
    "\n",
    "d2f_dx2 = diff(f, x, 2)\n",
    "d2f_dy2 = diff(f, y, 2)\n",
    "\n",
    "Laplacian_f = d2f_dx2 + d2f_dy2\n",
    "print(\"(a) Laplacian of f = \\n\", Laplacian_f)\n",
    "print(\"\\n\")\n",
    "\n",
    "# 문제 (b)\n",
    "x, y, z = symbols('x y z')\n",
    "f = x**3*y*z**2+2*cos(y)+x*exp(y*z)\n",
    "\n",
    "d2f_dx2 = diff(f, x, 2)\n",
    "d2f_dy2 = diff(f, y, 2)\n",
    "d2f_dz2 = diff(f, z, 2)\n",
    "\n",
    "Laplacian_f = d2f_dx2 + d2f_dy2 + d2f_dz2\n",
    "print(\"(b) Laplacian of f = \\n\", Laplacian_f)"
   ]
  },
  {
   "cell_type": "markdown",
   "metadata": {},
   "source": [
    "# Ch 3 프로그래밍 실습"
   ]
  },
  {
   "cell_type": "markdown",
   "metadata": {},
   "source": [
    "3.1 주어진 벡터 x, y, z,v, w에 대하여 다음을 구하라."
   ]
  },
  {
   "cell_type": "code",
   "execution_count": 15,
   "metadata": {},
   "outputs": [
    {
     "name": "stdout",
     "output_type": "stream",
     "text": [
      "문제 (a)\n",
      "Norm of x =  1.4142135623730951\n",
      "Norm of y =  2.8284271247461903\n",
      "Norm of z =  2.449489742783178\n",
      "\n",
      "\n",
      "문제 (b)\n",
      "Inner product of x and y =  2\n",
      "\n",
      "\n",
      "문제 (c)\n",
      "Inner product of z and x+y =  4\n",
      "\n",
      "\n",
      "문제 (d)\n",
      "Hamming distance of x and v =  2\n",
      "\n",
      "\n",
      "문제 (e)\n",
      "Manhattan distance of v and w =  3\n"
     ]
    }
   ],
   "source": [
    "import numpy as np\n",
    "\n",
    "# 노름을 구하는 함수\n",
    "def cal_norm(vec1):\n",
    "    norm_vec = np.sqrt(np.sum(vec1*vec1))\n",
    "    return norm_vec\n",
    "\n",
    "# 내적을 구하는 함수\n",
    "def cal_innerproduct(vec1, vec2):\n",
    "    innerprod_vecs = np.sum(vec1*vec2)\n",
    "    return innerprod_vecs\n",
    "\n",
    "# 해밍 거리를 구하는 함수\n",
    "def cal_hamming_dist(vec1, vec2):\n",
    "    Num_vec = len(vec1)\n",
    "    hamming_dist = 0\n",
    "    for i in range(Num_vec):\n",
    "        if vec1[i] != vec2[i]:\n",
    "            hamming_dist = hamming_dist+1\n",
    "    return hamming_dist\n",
    "\n",
    "# 맨하튼 거리를 구하는 함수\n",
    "def cal_Manhattan_dist(vec1, vec2):\n",
    "    Manhattan_dist = np.sum(np.abs(vec1-vec2))\n",
    "    return Manhattan_dist\n",
    "\n",
    "# 벡터 x, y, z, v, w\n",
    "x = np.array([1,0,1,0])\n",
    "y = np.array([0,2,2,0])\n",
    "z = np.array([1,0,1,2])\n",
    "v = np.array([1,1,1,1])\n",
    "w = np.array([2,2,0,1])\n",
    "\n",
    "# 문제 (a)\n",
    "print(\"문제 (a)\")\n",
    "print(\"Norm of x = \", cal_norm(x))\n",
    "print(\"Norm of y = \", cal_norm(y))\n",
    "print(\"Norm of z = \", cal_norm(z))\n",
    "print(\"\\n\")\n",
    "\n",
    "# 문제 (b)\n",
    "print(\"문제 (b)\")\n",
    "print(\"Inner product of x and y = \", cal_innerproduct(x,y))\n",
    "print(\"\\n\")\n",
    "\n",
    "# 문제 (c)\n",
    "print(\"문제 (c)\")\n",
    "print(\"Inner product of z and x+y = \", cal_innerproduct(z, x+y))\n",
    "print(\"\\n\")\n",
    "\n",
    "# 문제 (d)\n",
    "print(\"문제 (d)\")\n",
    "print(\"Hamming distance of x and v = \", cal_hamming_dist(x,v))\n",
    "print(\"\\n\")\n",
    "\n",
    "# 문제 (e)\n",
    "print(\"문제 (e)\")\n",
    "print(\"Manhattan distance of v and w = \", cal_Manhattan_dist(v,w))"
   ]
  },
  {
   "cell_type": "markdown",
   "metadata": {},
   "source": [
    "3.2 다음과 같은 두 벡터 x, y가 이루는 각을 구하고, x의 y 위로의 정사영 proj_y x를 구하라."
   ]
  },
  {
   "cell_type": "code",
   "execution_count": 16,
   "metadata": {},
   "outputs": [
    {
     "name": "stdout",
     "output_type": "stream",
     "text": [
      "문제 (a)\n",
      "x와 y가 이루는 각 =  [[70.52877937]]\n",
      "x의 y 위로의 정사영 = \n",
      " [[4.]\n",
      " [0.]]\n",
      "\n",
      "\n",
      "문제 (b)\n",
      "x와 y가 이루는 각 =  [[67.70902963]]\n",
      "x의 y 위로의 정사영 = \n",
      " [[0.3]\n",
      " [0.6]\n",
      " [1.5]]\n",
      "\n",
      "\n",
      "문제 (c)\n",
      "x와 y가 이루는 각 =  [[75.52248781]]\n",
      "x의 y 위로의 정사영 = \n",
      " [[ 0.]\n",
      " [-1.]\n",
      " [ 2.]\n",
      " [ 2.]]\n"
     ]
    }
   ],
   "source": [
    "import numpy as np\n",
    "\n",
    "# 두 벡터가 이루는 각을 구하는 함수\n",
    "# np.linalg.norm(vec) : vec의 노름\n",
    "# np.arctan() : tan()의 역함수 값\n",
    "\n",
    "def angle_to_vectors(vec_1, vec_2):\n",
    "    vec_1_norm = np.linalg.norm(vec_1)\n",
    "    vec_2_norm = np.linalg.norm(vec_2)\n",
    "    vec_1_2_dot = np.dot(vec_1.T, vec_2)\n",
    "    angle = np.arctan(vec_1_2_dot/(vec_1_norm*vec_2_norm))*360/np.pi\n",
    "    return angle\n",
    "\n",
    "# 정사영을 구하는 함수\n",
    "def Proj_onto(vec_1, vec_2):\n",
    "    vec_2_1_dot = np.dot(vec_2.T, vec_1)\n",
    "    vec_2_dot = np.dot(vec_2.T, vec_2)\n",
    "    proj_vec = (vec_2_1_dot/vec_2_dot)*vec_2\n",
    "    return proj_vec\n",
    "\n",
    "# 문제 (a)\n",
    "x = np.array([[1], [0]])\n",
    "y = np.array([[4], [4]])\n",
    "angle = angle_to_vectors(x, y)\n",
    "projxy = Proj_onto(y, x)\n",
    "print(\"문제 (a)\")\n",
    "print(\"x와 y가 이루는 각 = \", angle)\n",
    "print(\"x의 y 위로의 정사영 = \\n\", projxy)\n",
    "print(\"\\n\")\n",
    "\n",
    "# 문제 (b)\n",
    "x = np.array([[1], [2], [5]])\n",
    "y = np.array([[1], [-1], [2]])\n",
    "angle = angle_to_vectors(x, y)\n",
    "projxy = Proj_onto(y, x)\n",
    "print(\"문제 (b)\")\n",
    "print(\"x와 y가 이루는 각 = \", angle)\n",
    "print(\"x의 y 위로의 정사영 = \\n\", projxy)\n",
    "print(\"\\n\")\n",
    "\n",
    "# 문제 (c)\n",
    "x = np.array([[0], [-1], [2], [2]])\n",
    "y = np.array([[1], [1], [3], [2]])\n",
    "angle = angle_to_vectors(x, y)\n",
    "projxy = Proj_onto(y, x)\n",
    "print(\"문제 (c)\")\n",
    "print(\"x와 y가 이루는 각 = \", angle)\n",
    "print(\"x의 y 위로의 정사영 = \\n\", projxy)"
   ]
  },
  {
   "cell_type": "markdown",
   "metadata": {},
   "source": [
    "3.3 다음과 같이 주어진 점 P를 포함하며 법선벡터가 n인 평면이 있다고 하자. 내적을 이용하여 이 평면과 점 P'사이의 거리를 구하라."
   ]
  },
  {
   "cell_type": "code",
   "execution_count": 17,
   "metadata": {},
   "outputs": [
    {
     "name": "stdout",
     "output_type": "stream",
     "text": [
      "문제 (a)\n",
      "평면과 점 사이의 거리 =  1.1322770341445956\n",
      "\n",
      "\n",
      "문제 (b)\n",
      "평면과 점 사이의 거리 =  14.62059864581149\n"
     ]
    }
   ],
   "source": [
    "import numpy as np\n",
    "\n",
    "# 평면과 점 사이의 거리를 구하는 함수\n",
    "# np.absolute() : np.abs()와 같은 함수\n",
    "def dist_Pt_to_Pl(P, N_vec, PP) :\n",
    "    num = np.dot((PP-P).T, N_vec)\n",
    "    N_norm = np.linalg.norm(N_vec)\n",
    "    dist = np.absolute(num)/N_norm\n",
    "    return dist\n",
    "\n",
    "# 문제 (a)\n",
    "print(\"문제 (a)\")\n",
    "P = np.array([1, 9, 8])\n",
    "N = np.array([7, 5, 2])\n",
    "PP = np.array([5, 1, 9])\n",
    "print(\"평면과 점 사이의 거리 = \", dist_Pt_to_Pl(P, N, PP))\n",
    "print(\"\\n\")\n",
    "\n",
    "# 문제 (b)\n",
    "print(\"문제 (b)\")\n",
    "P = np.array([1, 4, 5, 0])\n",
    "N = np.array([4, 1, 2, 0])\n",
    "PP = np.array([17, 9, 4, 11])\n",
    "print(\"평면과 점 사이의 거리 = \", dist_Pt_to_Pl(P, N, PP))"
   ]
  }
 ],
 "metadata": {
  "kernelspec": {
   "display_name": "Python 3",
   "language": "python",
   "name": "python3"
  },
  "language_info": {
   "codemirror_mode": {
    "name": "ipython",
    "version": 3
   },
   "file_extension": ".py",
   "mimetype": "text/x-python",
   "name": "python",
   "nbconvert_exporter": "python",
   "pygments_lexer": "ipython3",
   "version": "3.6.12"
  }
 },
 "nbformat": 4,
 "nbformat_minor": 4
}
