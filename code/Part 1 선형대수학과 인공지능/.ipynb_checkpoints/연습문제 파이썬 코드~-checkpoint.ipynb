{
 "cells": [
  {
   "cell_type": "markdown",
   "metadata": {},
   "source": [
    "연습문제 5.7번"
   ]
  },
  {
   "cell_type": "code",
   "execution_count": 1,
   "metadata": {},
   "outputs": [
    {
     "name": "stdout",
     "output_type": "stream",
     "text": [
      "A^20 = \n",
      " [[  24157816  -87403800   63245985]\n",
      " [  63245985 -228826124  165580140]\n",
      " [ 165580140 -599074575  433494436]]\n"
     ]
    }
   ],
   "source": [
    "import numpy as np\n",
    "\n",
    "A = np.array([[0, 1, 0], [0, 0, 1], [1, -4, 4]])\n",
    "\n",
    "print(\"A^20 = \\n\", np.linalg.matrix_power(A, 20))"
   ]
  },
  {
   "cell_type": "markdown",
   "metadata": {},
   "source": [
    "연습문제 6.7번"
   ]
  },
  {
   "cell_type": "markdown",
   "metadata": {},
   "source": [
    "(a)"
   ]
  },
  {
   "cell_type": "code",
   "execution_count": 2,
   "metadata": {},
   "outputs": [
    {
     "name": "stdout",
     "output_type": "stream",
     "text": [
      "A = \n",
      " [[4 6]\n",
      " [0 4]]\n",
      "\n",
      "\n",
      "U= \n",
      " [[ 0.89442719 -0.4472136 ]\n",
      " [ 0.4472136   0.89442719]]\n",
      "\n",
      "\n",
      "Sigma = \n",
      " [[8. 0.]\n",
      " [0. 2.]]\n",
      "\n",
      "\n",
      "V^T = \n",
      " [[ 0.4472136   0.89442719]\n",
      " [-0.89442719  0.4472136 ]]\n",
      "\n",
      "\n"
     ]
    }
   ],
   "source": [
    "import numpy as np\n",
    "\n",
    "# 행렬 A의 특잇값 분해\n",
    "A = np.array([[4, 6], [0, 4]])\n",
    "print(\"A = \\n\", A)\n",
    "print(\"\\n\")\n",
    "\n",
    "U, Sig, VT = np.linalg.svd(A) # 특잇값 분해\n",
    "print(\"U= \\n\", U)\n",
    "print(\"\\n\")\n",
    "\n",
    "m, n = A.shape\n",
    "Sigma = np.zeros((m, n)) # m×n 행렬 Σ\n",
    "k = np.size(Sig)\n",
    "Sigma[:k, :k] = np.diag(Sig) # 특잇값\n",
    "print(\"Sigma = \\n\", Sigma)\n",
    "print(\"\\n\")\n",
    "\n",
    "print(\"V^T = \\n\", VT) # n×n 행렬 V^T\n",
    "print(\"\\n\")"
   ]
  },
  {
   "cell_type": "markdown",
   "metadata": {},
   "source": [
    "(b)"
   ]
  },
  {
   "cell_type": "code",
   "execution_count": 3,
   "metadata": {},
   "outputs": [
    {
     "name": "stdout",
     "output_type": "stream",
     "text": [
      "A = \n",
      " [[2 2]\n",
      " [2 2]]\n",
      "\n",
      "\n",
      "U= \n",
      " [[-0.70710678 -0.70710678]\n",
      " [-0.70710678  0.70710678]]\n",
      "\n",
      "\n",
      "Sigma = \n",
      " [[4. 0.]\n",
      " [0. 0.]]\n",
      "\n",
      "\n",
      "V^T = \n",
      " [[-0.70710678 -0.70710678]\n",
      " [-0.70710678  0.70710678]]\n",
      "\n",
      "\n"
     ]
    }
   ],
   "source": [
    "import numpy as np\n",
    "\n",
    "# 행렬 A의 특잇값 분해\n",
    "A = np.array([[2, 2], [2, 2]])\n",
    "print(\"A = \\n\", A)\n",
    "print(\"\\n\")\n",
    "\n",
    "U, Sig, VT = np.linalg.svd(A) # 특잇값 분해\n",
    "print(\"U= \\n\", U)\n",
    "print(\"\\n\")\n",
    "\n",
    "m, n = A.shape\n",
    "Sigma = np.zeros((m, n)) # m×n 행렬 Σ\n",
    "k = np.size(Sig)\n",
    "Sigma[:k, :k] = np.diag(Sig) # 특잇값\n",
    "print(\"Sigma = \\n\", Sigma)\n",
    "print(\"\\n\")\n",
    "\n",
    "print(\"V^T = \\n\", VT) # n×n 행렬 V^T\n",
    "print(\"\\n\")"
   ]
  },
  {
   "cell_type": "markdown",
   "metadata": {},
   "source": [
    "(c)"
   ]
  },
  {
   "cell_type": "code",
   "execution_count": 4,
   "metadata": {},
   "outputs": [
    {
     "name": "stdout",
     "output_type": "stream",
     "text": [
      "A = \n",
      " [[1 1]\n",
      " [0 1]\n",
      " [1 0]]\n",
      "\n",
      "\n",
      "U= \n",
      " [[-8.16496581e-01 -1.85577521e-16 -5.77350269e-01]\n",
      " [-4.08248290e-01 -7.07106781e-01  5.77350269e-01]\n",
      " [-4.08248290e-01  7.07106781e-01  5.77350269e-01]]\n",
      "\n",
      "\n",
      "Sigma = \n",
      " [[1.73205081 0.        ]\n",
      " [0.         1.        ]\n",
      " [0.         0.        ]]\n",
      "\n",
      "\n",
      "V^T = \n",
      " [[-0.70710678 -0.70710678]\n",
      " [ 0.70710678 -0.70710678]]\n",
      "\n",
      "\n"
     ]
    }
   ],
   "source": [
    "import numpy as np\n",
    "\n",
    "# 행렬 A의 특잇값 분해\n",
    "A = np.array([[1, 1], [0, 1], [1, 0]])\n",
    "print(\"A = \\n\", A)\n",
    "print(\"\\n\")\n",
    "\n",
    "U, Sig, VT = np.linalg.svd(A) # 특잇값 분해\n",
    "print(\"U= \\n\", U)\n",
    "print(\"\\n\")\n",
    "\n",
    "m, n = A.shape\n",
    "Sigma = np.zeros((m, n)) # m×n 행렬 Σ\n",
    "k = np.size(Sig)\n",
    "Sigma[:k, :k] = np.diag(Sig) # 특잇값\n",
    "print(\"Sigma = \\n\", Sigma)\n",
    "print(\"\\n\")\n",
    "\n",
    "print(\"V^T = \\n\", VT) # n×n 행렬 V^T\n",
    "print(\"\\n\")"
   ]
  },
  {
   "cell_type": "markdown",
   "metadata": {},
   "source": [
    "(d)"
   ]
  },
  {
   "cell_type": "code",
   "execution_count": 5,
   "metadata": {},
   "outputs": [
    {
     "name": "stdout",
     "output_type": "stream",
     "text": [
      "A = \n",
      " [[-3 -1  2]\n",
      " [ 2  1 -2]]\n",
      "\n",
      "\n",
      "U= \n",
      " [[-0.7815437  0.6238505]\n",
      " [ 0.6238505  0.7815437]]\n",
      "\n",
      "\n",
      "Sigma = \n",
      " [[4.77289369 0.         0.        ]\n",
      " [0.         0.46849315 0.        ]]\n",
      "\n",
      "\n",
      "V^T = \n",
      " [[ 7.52652862e-01  2.94453279e-01 -5.88906559e-01]\n",
      " [-6.58417549e-01  3.36596593e-01 -6.73193185e-01]\n",
      " [ 1.50028633e-16  8.94427191e-01  4.47213595e-01]]\n",
      "\n",
      "\n"
     ]
    }
   ],
   "source": [
    "import numpy as np\n",
    "\n",
    "# 행렬 A의 특잇값 분해\n",
    "A = np.array([[-3, -1, 2], [2, 1, -2]])\n",
    "print(\"A = \\n\", A)\n",
    "print(\"\\n\")\n",
    "\n",
    "U, Sig, VT = np.linalg.svd(A) # 특잇값 분해\n",
    "print(\"U= \\n\", U)\n",
    "print(\"\\n\")\n",
    "\n",
    "m, n = A.shape\n",
    "Sigma = np.zeros((m, n)) # m×n 행렬 Σ\n",
    "k = np.size(Sig)\n",
    "Sigma[:k, :k] = np.diag(Sig) # 특잇값\n",
    "print(\"Sigma = \\n\", Sigma)\n",
    "print(\"\\n\")\n",
    "\n",
    "print(\"V^T = \\n\", VT) # n×n 행렬 V^T\n",
    "print(\"\\n\")"
   ]
  },
  {
   "cell_type": "markdown",
   "metadata": {},
   "source": [
    "(e)"
   ]
  },
  {
   "cell_type": "code",
   "execution_count": 6,
   "metadata": {},
   "outputs": [
    {
     "name": "stdout",
     "output_type": "stream",
     "text": [
      "A = \n",
      " [[ 0  5  0]\n",
      " [-2  0  4]\n",
      " [ 0  0  0]]\n",
      "\n",
      "\n",
      "U= \n",
      " [[1. 0. 0.]\n",
      " [0. 1. 0.]\n",
      " [0. 0. 1.]]\n",
      "\n",
      "\n",
      "Sigma = \n",
      " [[5.         0.         0.        ]\n",
      " [0.         4.47213595 0.        ]\n",
      " [0.         0.         0.        ]]\n",
      "\n",
      "\n",
      "V^T = \n",
      " [[-0.          1.          0.        ]\n",
      " [-0.4472136   0.          0.89442719]\n",
      " [-0.89442719  0.         -0.4472136 ]]\n",
      "\n",
      "\n"
     ]
    }
   ],
   "source": [
    "import numpy as np\n",
    "\n",
    "# 행렬 A의 특잇값 분해\n",
    "A = np.array([[0, 5, 0], [-2, 0, 4], [0, 0, 0]])\n",
    "print(\"A = \\n\", A)\n",
    "print(\"\\n\")\n",
    "\n",
    "U, Sig, VT = np.linalg.svd(A) # 특잇값 분해\n",
    "print(\"U= \\n\", U)\n",
    "print(\"\\n\")\n",
    "\n",
    "m, n = A.shape\n",
    "Sigma = np.zeros((m, n)) # m×n 행렬 Σ\n",
    "k = np.size(Sig)\n",
    "Sigma[:k, :k] = np.diag(Sig) # 특잇값\n",
    "print(\"Sigma = \\n\", Sigma)\n",
    "print(\"\\n\")\n",
    "\n",
    "print(\"V^T = \\n\", VT) # n×n 행렬 V^T\n",
    "print(\"\\n\")"
   ]
  },
  {
   "cell_type": "markdown",
   "metadata": {},
   "source": [
    "연습문제 6.10번"
   ]
  },
  {
   "cell_type": "code",
   "execution_count": 7,
   "metadata": {},
   "outputs": [
    {
     "name": "stdout",
     "output_type": "stream",
     "text": [
      "A = \n",
      " [[-3 -1  2]\n",
      " [ 2  1 -2]]\n",
      "\n",
      "\n",
      "Pseudo inverse of A = \n",
      " [[-1.  -1. ]\n",
      " [ 0.4  0.6]\n",
      " [-0.8 -1.2]]\n"
     ]
    }
   ],
   "source": [
    "import numpy as np\n",
    "import numpy.linalg as lin\n",
    "\n",
    "# lin.pinv(A) : A의 의사 역행렬을 구해주는 함수\n",
    "# 행렬 A의 특잇값 분해\n",
    "A = np.array([[-3, -1, 2], [2, 1, -2]])\n",
    "print(\"A = \\n\", A)\n",
    "print(\"\\n\")\n",
    "\n",
    "# 행렬 A의 특잇값 분해\n",
    "A_pinv = lin.pinv(A)\n",
    "print(\"Pseudo inverse of A = \\n\", A_pinv)"
   ]
  }
 ],
 "metadata": {
  "kernelspec": {
   "display_name": "Python 3",
   "language": "python",
   "name": "python3"
  },
  "language_info": {
   "codemirror_mode": {
    "name": "ipython",
    "version": 3
   },
   "file_extension": ".py",
   "mimetype": "text/x-python",
   "name": "python",
   "nbconvert_exporter": "python",
   "pygments_lexer": "ipython3",
   "version": "3.6.12"
  }
 },
 "nbformat": 4,
 "nbformat_minor": 4
}
