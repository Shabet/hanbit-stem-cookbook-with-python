{
 "cells": [
  {
   "cell_type": "markdown",
   "metadata": {},
   "source": [
    "#  1.3 행렬의 연산"
   ]
  },
  {
   "cell_type": "markdown",
   "metadata": {},
   "source": [
    "예제 1-3"
   ]
  },
  {
   "cell_type": "code",
   "execution_count": 1,
   "metadata": {},
   "outputs": [
    {
     "name": "stdout",
     "output_type": "stream",
     "text": [
      "A+B = \n",
      " [[5 3]\n",
      " [3 2]\n",
      " [4 5]]\n",
      "\n",
      "\n",
      "A-B = \n",
      " [[-3 -3]\n",
      " [ 1  0]\n",
      " [ 4  1]]\n",
      "\n",
      "\n",
      "5B = \n",
      " [[20 15]\n",
      " [ 5  5]\n",
      " [ 0 10]]\n"
     ]
    }
   ],
   "source": [
    "import numpy as np\n",
    "# np.array() : 벡터 또는 행렬을 나타냄\n",
    "A = np.array([[1,0],[2,1],[4,3]])\n",
    "B = np.array([[4,3],[1,1],[0,2]])\n",
    "\n",
    "# A + B\n",
    "print(\"A+B = \\n\", A+B)\n",
    "print(\"\\n\")\n",
    "\n",
    "# A-B\n",
    "print(\"A-B = \\n\", A-B)\n",
    "print(\"\\n\")\n",
    "\n",
    "# 5B\n",
    "print(\"5B = \\n\", 5*B)"
   ]
  },
  {
   "cell_type": "markdown",
   "metadata": {},
   "source": [
    "예제 1-4"
   ]
  },
  {
   "cell_type": "code",
   "execution_count": 2,
   "metadata": {},
   "outputs": [
    {
     "name": "stdout",
     "output_type": "stream",
     "text": [
      "AB = \n",
      " [[19 22]\n",
      " [43 50]]\n",
      "\n",
      "\n",
      "BA = \n",
      " [[23 34]\n",
      " [31 46]]\n",
      "\n",
      "\n",
      "행렬 AB와 BA는 같은가? False\n"
     ]
    }
   ],
   "source": [
    "import numpy as np\n",
    "A = np.array([[1,2],[3,4]])\n",
    "B = np.array([[5,6],[7,8]])\n",
    "\n",
    "# AB\n",
    "# np.matmul(A, B) : 행렬  와  의 곱\n",
    "AB = np.matmul(A,B)\n",
    "print(\"AB = \\n\", AB)\n",
    "print(\"\\n\")\n",
    "\n",
    "# BA\n",
    "BA = np.matmul(B, A)\n",
    "print(\"BA = \\n\", BA)\n",
    "print(\"\\n\")\n",
    "\n",
    "# np.array_equal(A, B) : 행렬 A 와 B 가 같은지 확인\n",
    "print(\"행렬 AB와 BA는 같은가?\" , np.array_equal(AB, BA))"
   ]
  },
  {
   "cell_type": "markdown",
   "metadata": {},
   "source": [
    "예제 1-5"
   ]
  },
  {
   "cell_type": "code",
   "execution_count": 3,
   "metadata": {},
   "outputs": [
    {
     "name": "stdout",
     "output_type": "stream",
     "text": [
      "A+2B = \n",
      " [[-3 -2]\n",
      " [ 3  4]\n",
      " [ 9  7]]\n",
      "\n",
      "\n",
      "AC = \n",
      " [[ 3  6  9]\n",
      " [ 3 -2 -1]\n",
      " [ 3  2  4]]\n",
      "\n",
      "\n",
      "3D = \n",
      " [3 6 9]\n"
     ]
    }
   ],
   "source": [
    "import numpy as np\n",
    "A = np.array([[3,0],[-1,2],[1,1]])\n",
    "B = np.array([[-3,-1],[2,1],[4,3]])\n",
    "C = np.array([[1,2,3],[2,0,1]])\n",
    "D = np.array([1,2,3])\n",
    "\n",
    "# (a) A+2B 계산\n",
    "print(\"A+2B = \\n\", A+2*B)\n",
    "print(\"\\n\")\n",
    "\n",
    "# (b) AC 계산\n",
    "# np.dot(A, B) : 행렬  와  의 곱\n",
    "print(\"AC = \\n\", np.dot(A,C))\n",
    "print(\"\\n\")\n",
    "\n",
    "# (c) 3D 계산\n",
    "print(\"3D = \\n\", 3*D)"
   ]
  },
  {
   "cell_type": "markdown",
   "metadata": {},
   "source": [
    "# CH 1 프로그래밍 실습"
   ]
  },
  {
   "cell_type": "markdown",
   "metadata": {},
   "source": [
    "1.1 주어진 행렬 A, B, C, D에 대하여 다음을 구하라."
   ]
  },
  {
   "cell_type": "code",
   "execution_count": 4,
   "metadata": {},
   "outputs": [
    {
     "name": "stdout",
     "output_type": "stream",
     "text": [
      "문제 (a)의 답 =  2\n",
      "\n",
      "\n",
      "문제 (b)의 답 = \n",
      " [[1 2]\n",
      " [3 4]]\n",
      "\n",
      "\n",
      "문제 (c)의 답 = \n",
      " [[-2  1]\n",
      " [ 4  3]]\n",
      "\n",
      "\n",
      "문제 (d)의 답 = \n",
      " [[-1  4]\n",
      " [ 6  7]]\n",
      "\n",
      "\n",
      "문제 (e)의 답 = \n",
      " [[-1  4]\n",
      " [ 6  7]]\n",
      "\n",
      "\n",
      "문제 (f)의 답 = \n",
      " [[ 1.  5.]\n",
      " [-3.  5.]]\n",
      "\n",
      "\n",
      "문제 (g)의 답 = \n",
      " [[ 0. -1.  3.]\n",
      " [-4. -2. -6.]\n",
      " [-3.  1. -3.]]\n",
      "\n",
      "\n",
      "문제 (h)의 답 = \n",
      " [[ 15.  -3.   9.]\n",
      " [-12.   9. -18.]\n",
      " [ -9.   3.   6.]]\n",
      "\n",
      "\n"
     ]
    }
   ],
   "source": [
    "import numpy as np\n",
    "A = np.array([[1,2],[3,4]])\n",
    "B = np.array([[-2,4],[1,3]])\n",
    "C = np.array([[2,-5],[3,-2]])\n",
    "D = np.array([[5,-1,3],[-4,3,-6],[-3,1,2]])\n",
    "\n",
    "# (a)  A[2,2]+B[1,1]\n",
    "print(\"문제 (a)의 답 = \", A[1,1]+B[0,0])\n",
    "print(\"\\n\")\n",
    "\n",
    "# (b) A^T^T\n",
    "# A.T : 행렬 A 의 전치행렬\n",
    "print(\"문제 (b)의 답 = \\n\", (A.T).T )\n",
    "print(\"\\n\")\n",
    "\n",
    "# (c) B^T\n",
    "print(\"문제 (c)의 답 = \\n\", B.T )\n",
    "print(\"\\n\")\n",
    "\n",
    "# (d) A^T + B^T\n",
    "print(\"문제 (d)의 답 = \\n\", (A.T)+(B.T) )\n",
    "print(\"\\n\")\n",
    "\n",
    "# (e) (A+B)^T\n",
    "print(\"문제 (e)의 답 = \\n\", (A+B).T )\n",
    "print(\"\\n\")\n",
    "\n",
    "# (f) 3I_2 -C\n",
    "# np.eye(n) :  × 크기의 단위행렬\n",
    "print(\"문제 (f)의 답 = \\n\", (3*np.eye(2))-C )\n",
    "print(\"\\n\")\n",
    "\n",
    "# (g) D-5I_3\n",
    "print(\"문제 (g)의 답 = \\n\", D-(5*np.eye(3)) )\n",
    "print(\"\\n\")\n",
    "\n",
    "# (h) (3I_3)D\n",
    "print(\"문제 (h)의 답 = \\n\", np.dot(3*np.eye(3),D) )\n",
    "print(\"\\n\")"
   ]
  }
 ],
 "metadata": {
  "kernelspec": {
   "display_name": "Python 3",
   "language": "python",
   "name": "python3"
  },
  "language_info": {
   "codemirror_mode": {
    "name": "ipython",
    "version": 3
   },
   "file_extension": ".py",
   "mimetype": "text/x-python",
   "name": "python",
   "nbconvert_exporter": "python",
   "pygments_lexer": "ipython3",
   "version": "3.6.12"
  }
 },
 "nbformat": 4,
 "nbformat_minor": 4
}
