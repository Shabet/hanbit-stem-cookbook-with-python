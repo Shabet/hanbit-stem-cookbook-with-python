{
 "cells": [
  {
   "cell_type": "markdown",
   "metadata": {},
   "source": [
    "# 4.1 선형변환"
   ]
  },
  {
   "cell_type": "markdown",
   "metadata": {},
   "source": [
    "예제 4-8"
   ]
  },
  {
   "cell_type": "code",
   "execution_count": 1,
   "metadata": {},
   "outputs": [
    {
     "name": "stdout",
     "output_type": "stream",
     "text": [
      "L_2*L_1 = \n",
      " [[ 0  1]\n",
      " [-1  4]]\n"
     ]
    }
   ],
   "source": [
    "import numpy as np\n",
    "\n",
    "# 합성변환의 표준행렬을 구하는 함수\n",
    "# A@B : 행렬 A와 B의 곱\n",
    "def cal_CompositeTransformation(Matrix1, Matrix2):\n",
    "    cal_Comp_Transformation = Matrix2@Matrix1\n",
    "    return cal_Comp_Transformation\n",
    "\n",
    "A_1 = np.array([[0, 1], [-1, 2]])\n",
    "A_2 = np.array([[1, 0], [2, 1]])\n",
    "\n",
    "print(\"L_2*L_1 = \\n\", cal_CompositeTransformation(A_1, A_2))"
   ]
  },
  {
   "cell_type": "markdown",
   "metadata": {},
   "source": [
    "예제 4-10"
   ]
  },
  {
   "cell_type": "code",
   "execution_count": 2,
   "metadata": {},
   "outputs": [
    {
     "name": "stdout",
     "output_type": "stream",
     "text": [
      "Inverse transformation of L = \n",
      " [[ 3. -2.]\n",
      " [-1.  1.]]\n",
      "\n",
      "\n",
      "L^(-1)(1,2) = \n",
      " [-1.  1.]\n"
     ]
    }
   ],
   "source": [
    "import numpy as np\n",
    "\n",
    "# 역변환의 표준행렬을 구하는 함수\n",
    "def cal_InverseTransformation(Matrix1):\n",
    "    cal_Inv_Transformation = np.linalg.inv(Matrix1)\n",
    "    return cal_Inv_Transformation\n",
    "\n",
    "A = np.array([[1, 2], [1, 3]])\n",
    "\n",
    "print(\"Inverse transformation of L = \\n\", cal_InverseTransformation(A))\n",
    "print(\"\\n\")\n",
    "\n",
    "print(\"L^(-1)(1,2) = \\n\", np.matmul(cal_InverseTransformation(A), np.array([1,2])))"
   ]
  },
  {
   "cell_type": "markdown",
   "metadata": {},
   "source": [
    "예제 4-12"
   ]
  },
  {
   "cell_type": "code",
   "execution_count": 3,
   "metadata": {},
   "outputs": [
    {
     "name": "stdout",
     "output_type": "stream",
     "text": [
      "Orthogonal operator is True\n"
     ]
    }
   ],
   "source": [
    "import numpy as np\n",
    "\n",
    "# 직교연산자인지 확인하는 함수\n",
    "def check_OrthogonalOperator(Mat1):\n",
    "    cal_mat_mul = Mat1.T@Mat1\n",
    "    check_Orthogonal = np.array_equal(cal_mat_mul, np.eye(A.shape[0]))\n",
    "    return check_Orthogonal\n",
    "\n",
    "# 행렬 A로 확인\n",
    "A = np.array([[0, 1, 0, 0], [0, 0, 1, 0], [1, 0, 0, 0], [0, 0, 0, 1]])\n",
    "\n",
    "print(\"Orthogonal operator is\", check_OrthogonalOperator(A))"
   ]
  },
  {
   "cell_type": "markdown",
   "metadata": {},
   "source": [
    "# 4.2 랭크 정리"
   ]
  },
  {
   "cell_type": "markdown",
   "metadata": {},
   "source": [
    "예제 4-13"
   ]
  },
  {
   "cell_type": "code",
   "execution_count": 4,
   "metadata": {},
   "outputs": [
    {
     "name": "stdout",
     "output_type": "stream",
     "text": [
      "Rank(A) =  2\n"
     ]
    }
   ],
   "source": [
    "import numpy as np\n",
    "\n",
    "# 랭크를 구하는 함수\n",
    "# np.linalg.matrix_rank(A) : 행렬 A의 랭크\n",
    "def Cal_rank(Mat_1):\n",
    "    rank_r = np.linalg.matrix_rank(Mat_1)\n",
    "    return rank_r\n",
    "\n",
    "A = np.array([[1, 0, 1], [0, 1, 2]])\n",
    "print(\"Rank(A) = \", Cal_rank(A))"
   ]
  },
  {
   "cell_type": "markdown",
   "metadata": {},
   "source": [
    "예제 4-14"
   ]
  },
  {
   "cell_type": "code",
   "execution_count": 5,
   "metadata": {},
   "outputs": [
    {
     "name": "stdout",
     "output_type": "stream",
     "text": [
      "Nullity(A) =  2\n"
     ]
    }
   ],
   "source": [
    "import numpy as np\n",
    "\n",
    "# 퇴화차수를 구하는 함수\n",
    "def cal_Nullity(Matrix_1):\n",
    "    rank_Mat = np.linalg.matrix_rank(Matrix_1)\n",
    "    Nullity_Mat = len(Matrix_1[0,:]) - rank_Mat\n",
    "    return Nullity_Mat\n",
    "\n",
    "A = np.array([[1, 1, 3, 2], [0, 1, 2, 2]])\n",
    "\n",
    "print(\"Nullity(A) = \", cal_Nullity(A))"
   ]
  },
  {
   "cell_type": "markdown",
   "metadata": {},
   "source": [
    "예제 4-15"
   ]
  },
  {
   "cell_type": "code",
   "execution_count": 6,
   "metadata": {},
   "outputs": [
    {
     "name": "stdout",
     "output_type": "stream",
     "text": [
      "Rank(A) =  3\n",
      "Nullity(A) =  1\n"
     ]
    }
   ],
   "source": [
    "import numpy as np\n",
    "\n",
    "# 퇴화차수를 구하는 함수\n",
    "def cal_Nullity(Matrix_1):\n",
    "    rank_Mat = np.linalg.matrix_rank(Matrix_1)\n",
    "    Nullity_Mat = len(Matrix_1[0,:]) - rank_Mat\n",
    "    return Nullity_Mat\n",
    "\n",
    "A = np.array([[1, 1, 3, 2], [0, 2, 2, 2], [1, 1, 2, 5]])\n",
    "\n",
    "print(\"Rank(A) = \", np.linalg.matrix_rank(A))\n",
    "print(\"Nullity(A) = \", cal_Nullity(A))"
   ]
  },
  {
   "cell_type": "markdown",
   "metadata": {},
   "source": [
    "# CH 4 프로그래밍 실습"
   ]
  },
  {
   "cell_type": "markdown",
   "metadata": {},
   "source": [
    "4.1 주어진 선형변환 L에 대응하는 표준행렬에 대하여 점 P에서의 L의 상을 구하라."
   ]
  },
  {
   "cell_type": "code",
   "execution_count": 7,
   "metadata": {},
   "outputs": [
    {
     "name": "stdout",
     "output_type": "stream",
     "text": [
      "문제 (a)의 실습 결과 \n",
      "L = \n",
      " [[ 1  2  4]\n",
      " [ 0 -1  3]]\n",
      "P =  [ 2 -3  5] \n",
      "\n",
      "L(p) =  [16 18]\n",
      "\n",
      "\n",
      "문제 (b)의 실습 결과 \n",
      "L = \n",
      " [[ 1 -1  1]\n",
      " [ 1  0  1]]\n",
      "P =  [ 13 -22 -11] \n",
      "\n",
      "L(p) =  [24  2]\n",
      "\n",
      "\n",
      "문제 (c)의 실습 결과 \n",
      "L = \n",
      " [[2 1 4]\n",
      " [1 1 2]\n",
      " [0 1 2]\n",
      " [1 1 3]]\n",
      "P =  [-4  7  1] \n",
      "\n",
      "L(p) =  [3 5 9 6]\n"
     ]
    }
   ],
   "source": [
    "import numpy as np\n",
    "\n",
    "# 선형변환 계산\n",
    "def cal_LinearTransformation(Matrix, point):\n",
    "    cal_output = np.matmul(Matrix, point)\n",
    "    return cal_output\n",
    "\n",
    "# 문제 (a)\n",
    "print(\"문제 (a)의 실습 결과 \")\n",
    "L = np.array([[1, 2, 4], [0, -1, 3]]);\n",
    "p = np.array([2, -3, 5]);\n",
    "print(\"L = \\n\", L)\n",
    "print(\"P = \", p, \"\\n\")\n",
    "print(\"L(p) = \", cal_LinearTransformation(L, p))\n",
    "print(\"\\n\")\n",
    "\n",
    "# 문제 (b)\n",
    "print(\"문제 (b)의 실습 결과 \")\n",
    "L = np.array([[1, -1, 1], [1, 0, 1]]);\n",
    "p = np.array([13, -22, -11]);\n",
    "print(\"L = \\n\", L)\n",
    "print(\"P = \", p, \"\\n\")\n",
    "print(\"L(p) = \", cal_LinearTransformation(L, p))\n",
    "print(\"\\n\")\n",
    "\n",
    "# 문제 (c)\n",
    "print(\"문제 (c)의 실습 결과 \")\n",
    "L = np.array([[2, 1, 4], [1, 1, 2], [0, 1, 2], [1, 1, 3]]);\n",
    "p = np.array([-4, 7, 1]);\n",
    "print(\"L = \\n\", L)\n",
    "print(\"P = \", p, \"\\n\")\n",
    "print(\"L(p) = \", cal_LinearTransformation(L, p))"
   ]
  },
  {
   "cell_type": "markdown",
   "metadata": {},
   "source": [
    "4.2 다음 행렬 A, B, C의 랭크와 퇴화차수를 구하라."
   ]
  },
  {
   "cell_type": "code",
   "execution_count": 8,
   "metadata": {},
   "outputs": [
    {
     "name": "stdout",
     "output_type": "stream",
     "text": [
      "A = \n",
      " [[ 1  2  0  2  1]\n",
      " [-1 -2  1  1  0]\n",
      " [ 1  2 -3 -7  2]\n",
      " [ 1  2 -2 -4  3]]\n",
      "Rank(A) =  3\n",
      "Nullity(A) =  2\n",
      "\n",
      "\n",
      "B = \n",
      " [[ 1  3  1  7]\n",
      " [ 2  3 -1  9]\n",
      " [-1 -2  0 -5]]\n",
      "Rank(B) =  3\n",
      "Nullity(B) =  1\n",
      "\n",
      "\n",
      "C = \n",
      " [[1 2 1 4]\n",
      " [0 1 2 1]]\n",
      "Rank(C) =  2\n",
      "Nullity(C) =  2\n"
     ]
    }
   ],
   "source": [
    "import numpy as np\n",
    "\n",
    "# 퇴화차수를 구하는 함수\n",
    "def cal_Nullity(Matrix_1):\n",
    "    rank_Mat = np.linalg.matrix_rank(Matrix_1)\n",
    "    Nullity_Mat = len(Matrix_1[0,:]) - rank_Mat\n",
    "    return Nullity_Mat\n",
    "\n",
    "# 행렬 A\n",
    "A = np.array([[1, 2, 0, 2, 1], [-1, -2, 1, 1, 0], [1, 2, -3, -7, 2], [1, 2, -2, -4, 3]]);\n",
    "print(\"A = \\n\", A)\n",
    "print(\"Rank(A) = \", np.linalg.matrix_rank(A))\n",
    "print(\"Nullity(A) = \", cal_Nullity(A))\n",
    "print(\"\\n\")\n",
    "\n",
    "# 행렬 B\n",
    "B = np.array([[1, 3, 1, 7], [2, 3, -1, 9], [-1, -2, 0, -5]]);\n",
    "print(\"B = \\n\", B)\n",
    "print(\"Rank(B) = \", np.linalg.matrix_rank(B))\n",
    "print(\"Nullity(B) = \", cal_Nullity(B))\n",
    "print(\"\\n\")\n",
    "\n",
    "# 행렬 C\n",
    "C = np.array([[1, 2, 1, 4], [0, 1, 2, 1]]);\n",
    "print(\"C = \\n\", C)\n",
    "print(\"Rank(C) = \", np.linalg.matrix_rank(C))\n",
    "print(\"Nullity(C) = \", cal_Nullity(C))"
   ]
  }
 ],
 "metadata": {
  "kernelspec": {
   "display_name": "Python 3",
   "language": "python",
   "name": "python3"
  },
  "language_info": {
   "codemirror_mode": {
    "name": "ipython",
    "version": 3
   },
   "file_extension": ".py",
   "mimetype": "text/x-python",
   "name": "python",
   "nbconvert_exporter": "python",
   "pygments_lexer": "ipython3",
   "version": "3.6.12"
  }
 },
 "nbformat": 4,
 "nbformat_minor": 4
}
