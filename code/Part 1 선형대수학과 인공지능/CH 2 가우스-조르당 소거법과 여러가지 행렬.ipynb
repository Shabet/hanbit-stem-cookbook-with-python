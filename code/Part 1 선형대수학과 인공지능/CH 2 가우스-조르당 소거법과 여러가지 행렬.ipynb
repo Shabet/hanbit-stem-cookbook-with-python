{
 "cells": [
  {
   "cell_type": "markdown",
   "metadata": {},
   "source": [
    "# 2.1 가우스-조르당 소거법"
   ]
  },
  {
   "cell_type": "markdown",
   "metadata": {},
   "source": [
    "예제 2-1"
   ]
  },
  {
   "cell_type": "code",
   "execution_count": 1,
   "metadata": {},
   "outputs": [
    {
     "name": "stdout",
     "output_type": "stream",
     "text": [
      "행렬 A의 첨가행렬 = \n",
      " [[1 3 2 2]\n",
      " [2 2 0 0]\n",
      " [-3 1 1 -2]]\n",
      "\n",
      "\n",
      "행렬 A의 첨가행렬의 기약 행 사다리꼴 = \n",
      " [[1 0 0 1]\n",
      " [0 1 0 -1]\n",
      " [0 0 1 2]]\n"
     ]
    }
   ],
   "source": [
    "import numpy as np\n",
    "from sympy import *\n",
    "\n",
    "# 행렬 A 의 첨가행렬을 기약 행 사다리꼴로 변환\n",
    "# np.hstack(A, b) : 행렬 A 에 벡터 b를 붙여 첨가행렬 만들기\n",
    "# Matrix() : 행렬을 의미\n",
    "\n",
    "A = np.array([[1,3,2],[2,2,0],[-3,1,1]])\n",
    "b = np.array([[2,0,-2]])\n",
    "augmented_A = Matrix(np.hstack((A,b.T)))\n",
    "\n",
    "print(\"행렬 A의 첨가행렬 = \\n\", np.array(augmented_A))\n",
    "print(\"\\n\")\n",
    "print(\"행렬 A의 첨가행렬의 기약 행 사다리꼴 = \\n\", np.array(augmented_A.rref()[0]))"
   ]
  },
  {
   "cell_type": "markdown",
   "metadata": {},
   "source": [
    "예제 2-2"
   ]
  },
  {
   "cell_type": "code",
   "execution_count": 2,
   "metadata": {},
   "outputs": [
    {
     "name": "stdout",
     "output_type": "stream",
     "text": [
      "행렬 A의 첨가행렬 = \n",
      " [[3 6 3 6]\n",
      " [2 1 4 -1]\n",
      " [-1 3 5 -3]]\n",
      "\n",
      "\n",
      "행렬 A의 첨가행렬의 기약 행 사다리꼴 = \n",
      " [[1 0 0 1]\n",
      " [0 1 0 1]\n",
      " [0 0 1 -1]]\n"
     ]
    }
   ],
   "source": [
    "import numpy as np\n",
    "from sympy import *\n",
    "\n",
    "# 행렬 A 의 첨가행렬을 기약 행 사다리꼴로 변환\n",
    "A = np.array([[3,6,3],[2,1,4],[-1,3,5]])\n",
    "b = np.array([[6,-1,-3]])\n",
    "augmented_A = Matrix(np.hstack((A,b.T)))\n",
    "\n",
    "print(\"행렬 A의 첨가행렬 = \\n\", np.array(augmented_A))\n",
    "print(\"\\n\")\n",
    "print(\"행렬 A의 첨가행렬의 기약 행 사다리꼴 = \\n\", np.array(augmented_A.rref()[0]))"
   ]
  },
  {
   "cell_type": "markdown",
   "metadata": {},
   "source": [
    "# 2.2 역행렬"
   ]
  },
  {
   "cell_type": "markdown",
   "metadata": {},
   "source": [
    "예제 2-3"
   ]
  },
  {
   "cell_type": "code",
   "execution_count": 3,
   "metadata": {},
   "outputs": [
    {
     "name": "stdout",
     "output_type": "stream",
     "text": [
      "Inverse matrix of A = \n",
      " [[-7.  3.]\n",
      " [ 5. -2.]]\n"
     ]
    }
   ],
   "source": [
    "import numpy as np\n",
    "# 행렬 A 의 역행렬 계산\n",
    "# np.linalg.matrix_power(A, n) : 행렬 A 의 n제곱\n",
    "# np.linalg.matrix_power(A, -1) : 행렬 A 의 역행렬\n",
    "A = np.array([[2,3],[5,7]])\n",
    "A_inv = np.linalg.matrix_power(A, -1)\n",
    "print(\"Inverse matrix of A = \\n\", A_inv)"
   ]
  },
  {
   "cell_type": "markdown",
   "metadata": {},
   "source": [
    "예제 2-4"
   ]
  },
  {
   "cell_type": "code",
   "execution_count": 4,
   "metadata": {},
   "outputs": [
    {
     "name": "stdout",
     "output_type": "stream",
     "text": [
      "Inverse matrix of A = \n",
      " [[ 0.16666667 -0.08333333 -0.33333333]\n",
      " [-0.16666667  0.58333333  0.33333333]\n",
      " [ 0.66666667 -0.83333333 -0.33333333]]\n"
     ]
    }
   ],
   "source": [
    "import numpy as np\n",
    "\n",
    "# 행렬 A 의 역행렬 계산\n",
    "# np.linalg.inv(A) : 행렬 A 의 역행렬\n",
    "\n",
    "A = np.array([[1,3,2],[2,2,0],[-3,1,1]])\n",
    "A_inv = np.linalg.inv(A)\n",
    "print(\"Inverse matrix of A = \\n\", A_inv)"
   ]
  },
  {
   "cell_type": "markdown",
   "metadata": {},
   "source": [
    "# 2.3 여러가지 행렬"
   ]
  },
  {
   "cell_type": "markdown",
   "metadata": {},
   "source": [
    "예제 2-7"
   ]
  },
  {
   "cell_type": "code",
   "execution_count": 5,
   "metadata": {},
   "outputs": [
    {
     "name": "stdout",
     "output_type": "stream",
     "text": [
      "Transposed matrix of A = \n",
      " [[-1  3]\n",
      " [ 3  7]]\n",
      "\n",
      "\n",
      "Transposed matrix of B = \n",
      " [[ 1  7 10]\n",
      " [ 3  2 11]\n",
      " [ 5  9  3]]\n"
     ]
    }
   ],
   "source": [
    "import numpy as np\n",
    "\n",
    "# 행렬 A 의 전치행렬 구하기\n",
    "# A.T : 행렬 A의 전치행렬\n",
    "A = np.array([[-1,3],[3,7]])\n",
    "A_T = A.T\n",
    "print(\"Transposed matrix of A = \\n\", A_T)\n",
    "print(\"\\n\")\n",
    "\n",
    "# 행렬 B 의 전치행렬 구하기\n",
    "B = np.array([[1,3,5],[7,2,9],[10,11,3]])\n",
    "B_T = B.T\n",
    "print(\"Transposed matrix of B = \\n\", B_T)"
   ]
  },
  {
   "cell_type": "markdown",
   "metadata": {},
   "source": [
    "예제 2-10"
   ]
  },
  {
   "cell_type": "code",
   "execution_count": 6,
   "metadata": {},
   "outputs": [
    {
     "name": "stdout",
     "output_type": "stream",
     "text": [
      "AB = \n",
      " [[ 3  6  7]\n",
      " [ 4  2 20]\n",
      " [ 0 -8 11]]\n",
      "\n",
      "\n",
      "Trace of AB = \n",
      " 16\n",
      "\n",
      "\n",
      "BA = \n",
      " [[ 1 -5  1]\n",
      " [17  8  6]\n",
      " [13 -9  7]]\n",
      "\n",
      "\n",
      "Trace of BA = \n",
      " 16\n",
      "\n",
      "\n",
      "행렬 AB와 행렬 BA는 같은가? False\n",
      "tr(AB)와 tr(BA)는 같은가? True\n"
     ]
    }
   ],
   "source": [
    "import numpy as np\n",
    "\n",
    "A = np.array([[1,2,0],[3,2,1],[2,-1,1]])\n",
    "B = np.array([[1,-2,3],[1,4,2],[-1,0,7]])\n",
    "\n",
    "# 행렬 AB 의 계산과 행렬 AB 의 대각합 계산\n",
    "# np.trace(A) : 행렬 A의 대각합\n",
    "\n",
    "AB = np.matmul(A,B)\n",
    "tr_AB = np.trace(AB)\n",
    "\n",
    "print(\"AB = \\n\", AB)\n",
    "print(\"\\n\")\n",
    "print(\"Trace of AB = \\n\", tr_AB)\n",
    "print(\"\\n\")\n",
    "\n",
    "# 행렬 BA 의 계산과 행렬 BA의 대각합 계산\n",
    "\n",
    "BA = np.matmul(B, A)\n",
    "tr_BA = np.trace(BA)\n",
    "\n",
    "print(\"BA = \\n\", BA)\n",
    "print(\"\\n\")\n",
    "print(\"Trace of BA = \\n\", tr_BA)\n",
    "print(\"\\n\")\n",
    "print(\"행렬 AB와 행렬 BA는 같은가?\" , np.array_equal(AB, BA))\n",
    "print(\"tr(AB)와 tr(BA)는 같은가?\" , tr_AB == tr_BA)"
   ]
  },
  {
   "cell_type": "markdown",
   "metadata": {},
   "source": [
    "# Ch 2 프로그래밍 실습 "
   ]
  },
  {
   "cell_type": "markdown",
   "metadata": {},
   "source": [
    "2.1 가우스-조르당 소거법을 코드로 구현하여 다음 방정식의 해를 구하라."
   ]
  },
  {
   "cell_type": "code",
   "execution_count": 7,
   "metadata": {},
   "outputs": [
    {
     "name": "stdout",
     "output_type": "stream",
     "text": [
      "Solution of (a)\n",
      "\n",
      "1번째 반복 \n",
      "[[ 1.        -0.6666667  1.        -1.3333334]\n",
      " [ 0.         4.3333335 -3.        10.666667 ]\n",
      " [ 0.         2.6666667 -2.         7.3333335]]\n",
      "2번째 반복 \n",
      "[[ 1.          0.          0.53846157  0.3076924 ]\n",
      " [ 0.          1.         -0.69230765  2.4615386 ]\n",
      " [ 0.          0.         -0.15384626  0.76923037]]\n",
      "3번째 반복 \n",
      "[[ 1.          0.          0.          2.9999967 ]\n",
      " [ 0.          1.          0.         -0.99999547]\n",
      " [ 0.          0.          1.         -4.999994  ]]\n",
      "x_1 =  3\n",
      "x_2 =  -1\n",
      "x_3 =  -5\n",
      "\n",
      "\n",
      "Solution of (b)\n",
      "\n",
      "1번째 반복 \n",
      "[[ 1.          0.33333334  1.          4.6666665 ]\n",
      " [ 0.          5.3333335   2.         16.666668  ]\n",
      " [ 0.          0.6666666   1.          4.3333335 ]]\n",
      "2번째 반복 \n",
      "[[1.        0.        0.875     3.6249998]\n",
      " [0.        1.        0.375     3.1250002]\n",
      " [0.        0.        0.75      2.2500002]]\n",
      "3번째 반복 \n",
      "[[1.        0.        0.        0.9999995]\n",
      " [0.        1.        0.        2.       ]\n",
      " [0.        0.        1.        3.0000002]]\n",
      "x_1 =  1\n",
      "x_2 =  2\n",
      "x_3 =  3\n",
      "\n",
      "\n"
     ]
    }
   ],
   "source": [
    "import numpy as np\n",
    "\n",
    "# 가우스-조르당 소거법을 수행하는 함수\n",
    "# range(n) : 0부터 n까지 나열 \n",
    "# min(i,j) : 숫자 i와 j 중 작은 값\n",
    "# abs(i) : i의 절댓값\n",
    "# np.zeros(n) : 0으로 이루어진 n차 정방행렬\n",
    "\n",
    "def Gauss_Jordan_method(A):\n",
    "    (n,m) = A.shape\n",
    "    A = A.astype(np.float32)\n",
    "    for i in range(0, min(n,m)):\n",
    "    # i번째 열에서 절댓값이 최대인 성분의 행 선택\n",
    "        maxEl = abs(A[i,i])\n",
    "        maxRow_num = i\n",
    "        for k in range(i+1, n):\n",
    "            if abs(A[k,i]) > maxEl:\n",
    "                maxEl = abs(A[k,i])\n",
    "                maxRow_num = k\n",
    "        \n",
    "        # 현재 i번째 행과 최댓값을 갖는 행을 교환\n",
    "        for k in range(i, m):\n",
    "            tmp = A[maxRow_num,k]\n",
    "            A[maxRow_num,k] = A[i,k]\n",
    "            A[i,k] = tmp\n",
    "        \n",
    "        # 추축성분을 1로 만들기\n",
    "        piv = A[i,i]\n",
    "        for k in range(i, m):\n",
    "            A[i,k] = A[i,k]/piv\n",
    "        \n",
    "        # 현재 i번째 열의 i번째 행을 제외한 모두 성분을 으로 만들기\n",
    "        for k in range(0, n):\n",
    "            if k != i:\n",
    "                c = A[k,i]/A[i,i]\n",
    "                for j in range(i, m):\n",
    "                    if i == j:\n",
    "                        A[k,j] = 0\n",
    "                    else:\n",
    "                        A[k,j] = A[k,j] - c * A[i,j]\n",
    "        # 중간 과정 출력\n",
    "        print(str(i+1)+\"번째 반복 \")\n",
    "        print(A)\n",
    "    # Ax=b의 해 반환\n",
    "    sol_x = np.zeros(m-1)\n",
    "    for i in range(0,m-1):\n",
    "        sol_x[i] = A[i,m-1]\n",
    "    return sol_x\n",
    "\n",
    "# 문제 (a)의 방정식의 해\n",
    "# np.round(i) : 실수 I를 반올림\n",
    "\n",
    "print(\"Solution of (a)\\n\")\n",
    "A = np.array([[1,2,-1],[2,3,-1],[3,-2,3]])\n",
    "b = np.array([[6,8,-4]])\n",
    "augmented_A = np.hstack((A,b.T))\n",
    "sol = np.round(Gauss_Jordan_method(augmented_A)).astype(np.int64)\n",
    "\n",
    "print(\"x_1 = \", sol[0])\n",
    "print(\"x_2 = \", sol[1])\n",
    "print(\"x_3 = \", sol[2])\n",
    "print(\"\\n\")\n",
    "\n",
    "# 문제 (b)의 방정식의 해\n",
    "\n",
    "print(\"Solution of (b)\\n\")\n",
    "A = np.array([[1,1,2],[2,6,4],[3,1,3]])\n",
    "b = np.array([[9,26,14]])\n",
    "augmented_A = np.hstack((A,b.T))\n",
    "sol = np.round(Gauss_Jordan_method(augmented_A)).astype(np.int64)\n",
    "\n",
    "print(\"x_1 = \", sol[0])\n",
    "print(\"x_2 = \", sol[1])\n",
    "print(\"x_3 = \", sol[2])\n",
    "print(\"\\n\")"
   ]
  },
  {
   "cell_type": "markdown",
   "metadata": {},
   "source": [
    "2.2 다음 행렬 A, B, C의 역행렬을 각각 구하라"
   ]
  },
  {
   "cell_type": "code",
   "execution_count": 8,
   "metadata": {},
   "outputs": [
    {
     "name": "stdout",
     "output_type": "stream",
     "text": [
      "Inverse matrix of A = \n",
      " [[ 1.25        0.          0.         -0.25      ]\n",
      " [ 0.         -0.33333333  0.66666667  0.        ]\n",
      " [ 0.          0.66666667 -0.33333333  0.        ]\n",
      " [-0.25        0.          0.          0.25      ]]\n",
      "\n",
      "\n",
      "Inverse matrix of B = \n",
      " [[-4.  3.]\n",
      " [ 3. -2.]]\n",
      "\n",
      "\n",
      "Inverse matrix of C = \n",
      " [[ 0.    -0.25  -0.75 ]\n",
      " [-1.    -0.    -3.   ]\n",
      " [-0.5    0.375 -0.875]]\n"
     ]
    }
   ],
   "source": [
    "import numpy as np\n",
    "\n",
    "# 문제 (a)\n",
    "A = np.array([[1,0,0,1],[0,1,2,0],[0,2,1,0],[1,0,0,5]])\n",
    "A_inv = np.linalg.matrix_power(A, -1)\n",
    "print(\"Inverse matrix of A = \\n\", A_inv)\n",
    "print(\"\\n\")\n",
    "\n",
    "# 문제 (b)\n",
    "B = np.array([[2,3],[3,4]])\n",
    "B_inv = np.linalg.matrix_power(B, -1)\n",
    "print(\"Inverse matrix of B = \\n\", B_inv)\n",
    "print(\"\\n\")\n",
    "\n",
    "# 문제 (c)\n",
    "C = np.array([[9,-4,6],[5,-3,6],[-3,1,-2]])\n",
    "C_inv = np.linalg.matrix_power(C, -1)\n",
    "print(\"Inverse matrix of C = \\n\", C_inv)"
   ]
  }
 ],
 "metadata": {
  "kernelspec": {
   "display_name": "Python 3",
   "language": "python",
   "name": "python3"
  },
  "language_info": {
   "codemirror_mode": {
    "name": "ipython",
    "version": 3
   },
   "file_extension": ".py",
   "mimetype": "text/x-python",
   "name": "python",
   "nbconvert_exporter": "python",
   "pygments_lexer": "ipython3",
   "version": "3.6.12"
  }
 },
 "nbformat": 4,
 "nbformat_minor": 4
}
