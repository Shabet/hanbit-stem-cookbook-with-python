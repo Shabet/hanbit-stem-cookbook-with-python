{
 "cells": [
  {
   "cell_type": "markdown",
   "metadata": {},
   "source": [
    "# 5.1 고윳값과 고유벡터 "
   ]
  },
  {
   "cell_type": "markdown",
   "metadata": {},
   "source": [
    "예제 5-1"
   ]
  },
  {
   "cell_type": "code",
   "execution_count": 1,
   "metadata": {},
   "outputs": [
    {
     "name": "stdout",
     "output_type": "stream",
     "text": [
      "A의 고윳값 :  [1. 4. 6.]\n"
     ]
    }
   ],
   "source": [
    "import numpy as np\n",
    "\n",
    "# np.linalg.eig(A) : 행렬 A의 고윳값과 고유벡터\n",
    "A = np.array([[1,2,3],[0,4,5],[0,0,6]])\n",
    "print(\"A의 고윳값 : \", np.linalg.eig(A)[0])"
   ]
  },
  {
   "cell_type": "markdown",
   "metadata": {},
   "source": [
    "예제 5-2"
   ]
  },
  {
   "cell_type": "code",
   "execution_count": 2,
   "metadata": {},
   "outputs": [
    {
     "name": "stdout",
     "output_type": "stream",
     "text": [
      "A = \n",
      " [[2 3]\n",
      " [3 2]]\n",
      "\n",
      "\n",
      "A의 첫 번째 고윳값 :  5\n",
      "A의 첫 번째 고유벡터 : \n",
      " [0.70710678 0.70710678]\n",
      "\n",
      "\n",
      "A의 두 번째 고윳값 :  -1\n",
      "A의 두 번째 고유벡터 : \n",
      " [-0.70710678  0.70710678]\n"
     ]
    }
   ],
   "source": [
    "import numpy as np\n",
    "\n",
    "A = np.array([[2,3],[3,2]])\n",
    "print(\"A = \\n\", A)\n",
    "print(\"\\n\")\n",
    "\n",
    "# 첫 번째 고윳값과 고유벡터\n",
    "print(\"A의 첫 번째 고윳값 : \", int(np.linalg.eig(A)[0][0]))\n",
    "print(\"A의 첫 번째 고유벡터 : \\n\", np.linalg.eig(A)[1][:,0])\n",
    "print(\"\\n\")\n",
    "\n",
    "# 두 번째 고윳값과 고유벡터\n",
    "print(\"A의 두 번째 고윳값 : \", int(np.linalg.eig(A)[0][1]))\n",
    "print(\"A의 두 번째 고유벡터 : \\n\", np.linalg.eig(A)[1][:,1])"
   ]
  },
  {
   "cell_type": "markdown",
   "metadata": {},
   "source": [
    "예제 5-3"
   ]
  },
  {
   "cell_type": "code",
   "execution_count": 3,
   "metadata": {},
   "outputs": [
    {
     "name": "stdout",
     "output_type": "stream",
     "text": [
      "A = \n",
      " [[1 0 0]\n",
      " [0 1 4]\n",
      " [0 4 1]]\n",
      "\n",
      "\n",
      "A의 첫 번째 고윳값 :  5\n",
      "A의 첫 번째 고유벡터 : \n",
      " [0.         0.70710678 0.70710678]\n",
      "\n",
      "\n",
      "A의 두 번째 고윳값 :  -3\n",
      "A의 두 번째 고유벡터 : \n",
      " [ 0.          0.70710678 -0.70710678]\n",
      "\n",
      "\n",
      "A의 세 번째 고윳값 :  1\n",
      "A의 세 번째 고유벡터 : \n",
      " [1. 0. 0.]\n",
      "\n",
      "\n",
      "characteristic polynomial :  PurePoly(lamda**3 - 3*lamda**2 - 13*lamda + 15, lamda, domain='ZZ')\n",
      "The coefficient of characteristic polynomial :  [1, -3, -13, 15]\n"
     ]
    }
   ],
   "source": [
    "import numpy as np\n",
    "import sympy as sp\n",
    "\n",
    "A = np.array([[1,0,0],[0,1,4],[0,4,1]])\n",
    "print(\"A = \\n\", A)\n",
    "print(\"\\n\")\n",
    "\n",
    "# 첫 번째 고윳값과 고유벡터\n",
    "print(\"A의 첫 번째 고윳값 : \", int(np.linalg.eig(A)[0][0]))\n",
    "print(\"A의 첫 번째 고유벡터 : \\n\", np.linalg.eig(A)[1][:,0])\n",
    "print(\"\\n\")\n",
    "\n",
    "# 두 번째 고윳값과 고유벡터\n",
    "print(\"A의 두 번째 고윳값 : \", int(np.linalg.eig(A)[0][1]))\n",
    "print(\"A의 두 번째 고유벡터 : \\n\", np.linalg.eig(A)[1][:,1])\n",
    "print(\"\\n\")\n",
    "\n",
    "# 세 번째 고윳값과 고유벡터\n",
    "print(\"A의 세 번째 고윳값 : \", int(np.linalg.eig(A)[0][2]))\n",
    "print(\"A의 세 번째 고유벡터 : \\n\", np.linalg.eig(A)[1][:,2])\n",
    "print(\"\\n\")\n",
    "\n",
    "# 행렬 A의 특성다항식\n",
    "# sp.Matrix( ) : 행렬을 나타냄\n",
    "# A.charpoly( ) : 행렬 A의 특성다항식\n",
    "# p.coeffs() : 행렬 A의 특성다항식 p의 계수\n",
    "A = sp.Matrix([[1,0,0],[0,1,4],[0,4,1]])\n",
    "lamda = sp.symbols('lamda')\n",
    "p = A.charpoly(lamda)\n",
    "print(\"characteristic polynomial : \", p)\n",
    "print(\"The coefficient of characteristic polynomial : \", p.coeffs())"
   ]
  },
  {
   "cell_type": "markdown",
   "metadata": {},
   "source": [
    "# 5.2 케일리-해밀턴 정리"
   ]
  },
  {
   "cell_type": "markdown",
   "metadata": {},
   "source": [
    "예제 5-8"
   ]
  },
  {
   "cell_type": "code",
   "execution_count": 4,
   "metadata": {},
   "outputs": [
    {
     "name": "stdout",
     "output_type": "stream",
     "text": [
      "Q = \n",
      " [[ 0.          0.          1.        ]\n",
      " [ 0.70710678  0.70710678  0.        ]\n",
      " [ 0.70710678 -0.70710678  0.        ]]\n",
      "\n",
      "\n",
      "T = \n",
      " [[ 5.  0.  0.]\n",
      " [ 0. -3.  0.]\n",
      " [ 0.  0.  1.]]\n"
     ]
    }
   ],
   "source": [
    "# 슈어 분해를 구성하는 행렬 Q와 T 구하기\n",
    "import numpy as np\n",
    "from scipy.linalg import schur\n",
    "\n",
    "# schur(A) : 행렬 A의 슈어 분해\n",
    "A = np.array([[1, 0, 0], [0, 1, 4], [0, 4, 1]])\n",
    "T, Q = schur(A)\n",
    "\n",
    "print(\"Q = \\n\", Q)\n",
    "print(\"\\n\")\n",
    "print(\"T = \\n\", T)"
   ]
  },
  {
   "cell_type": "markdown",
   "metadata": {},
   "source": [
    "예제 5-9"
   ]
  },
  {
   "cell_type": "code",
   "execution_count": 5,
   "metadata": {},
   "outputs": [
    {
     "name": "stdout",
     "output_type": "stream",
     "text": [
      "A = \n",
      " [[1 3]\n",
      " [2 1]]\n",
      "\n",
      "\n",
      "A^2 -2A -5 = \n",
      " [[0. 0.]\n",
      " [0. 0.]]\n",
      "\n",
      "\n",
      "A^4 -14A +26I = \n",
      " [[1. 0.]\n",
      " [0. 1.]]\n"
     ]
    }
   ],
   "source": [
    "import numpy as np\n",
    "\n",
    "A = np.array([[1,3],[2,1]])\n",
    "A2 = np.matmul(A, A)\n",
    "A3 = np.matmul(A, A2)\n",
    "A4 = np.matmul(A, A3)\n",
    "\n",
    "print(\"A = \\n\",A)\n",
    "print(\"\\n\")\n",
    "print(\"A^2 -2A -5 = \\n\", A2-2*A-5*np.eye(2))\n",
    "print(\"\\n\")\n",
    "print(\"A^4 -14A +26I = \\n\", A4-14*A2 + 26*np.eye(2))"
   ]
  },
  {
   "cell_type": "markdown",
   "metadata": {},
   "source": [
    "# CH 5 프로그래밍 실습"
   ]
  },
  {
   "cell_type": "markdown",
   "metadata": {},
   "source": [
    "5.1 다음 행렬 A, B, C의 고윳값과 고유벡터를 구하라."
   ]
  },
  {
   "cell_type": "code",
   "execution_count": 6,
   "metadata": {},
   "outputs": [
    {
     "name": "stdout",
     "output_type": "stream",
     "text": [
      "A의 고윳값 = \n",
      " [1.60629927+2.73221536j 1.60629927-2.73221536j 2.78740146+0.j        ]\n",
      "A의 고유벡터 = \n",
      " [[ 0.77197967+0.j          0.77197967-0.j         -0.57870193+0.j        ]\n",
      " [-0.1789124 -0.54999483j -0.1789124 +0.54999483j  0.43158808+0.j        ]\n",
      " [-0.24759891-0.09076462j -0.24759891+0.09076462j  0.69197963+0.j        ]]\n",
      "\n",
      "B의 고윳값 =  [-2.00000000e+00  6.59737022e-17  2.00000000e+00  0.00000000e+00]\n",
      "B의 고유벡터 =  [[ 5.00000000e-01 -7.07106781e-01  5.00000000e-01  0.00000000e+00]\n",
      " [-5.00000000e-01 -4.59701721e-17  5.00000000e-01 -7.07106781e-01]\n",
      " [ 5.00000000e-01  7.07106781e-01  5.00000000e-01  0.00000000e+00]\n",
      " [-5.00000000e-01 -3.72965547e-17  5.00000000e-01  7.07106781e-01]]\n",
      "\n",
      "C의 고윳값 = \n",
      " [-2.22044605e-16  2.00000000e+00  4.00000000e+00  2.00000000e+00]\n",
      "C의 고유벡터 = \n",
      " [[ 5.00000000e-01  7.07106781e-01 -5.00000000e-01  2.77555756e-17]\n",
      " [ 5.00000000e-01 -2.02962647e-16  5.00000000e-01 -7.07106781e-01]\n",
      " [ 5.00000000e-01 -7.07106781e-01 -5.00000000e-01  2.86262916e-16]\n",
      " [ 5.00000000e-01  1.02348685e-16  5.00000000e-01  7.07106781e-01]]\n"
     ]
    }
   ],
   "source": [
    "import numpy as np\n",
    "\n",
    "# 행렬 A의 고윳값과 고유벡터 계산\n",
    "A = np.array([[1, -4, 1], [3, 2, 3], [1, 1, 3]])\n",
    "w1, V1 = np.linalg.eig(A)\n",
    "print(\"A의 고윳값 = \\n\", w1)\n",
    "print(\"A의 고유벡터 = \\n\", V1)\n",
    "\n",
    "# 행렬 B의 고윳값과 고유벡터 계산\n",
    "B = np.array([[0,1,0,1], [1,0,1,0], [0,1,0,1], [1,0,1,0]])\n",
    "w2, V2 = np.linalg.eig(B)\n",
    "print(\"\\nB의 고윳값 = \", w2)\n",
    "print(\"B의 고유벡터 = \", V2)\n",
    "\n",
    "# 행렬 C의 고윳값과 고유벡터 계산\n",
    "C = np.array([[2,-1,0,-1], [-1,2,-1,0], [0,-1,2,-1], [-1,0,-1,2]])\n",
    "w3, V3 = np.linalg.eig(C)\n",
    "print(\"\\nC의 고윳값 = \\n\", w3)\n",
    "print(\"C의 고유벡터 = \\n\", V3)"
   ]
  },
  {
   "cell_type": "markdown",
   "metadata": {},
   "source": [
    "5.2 다음 행렬 A, B, C에 대하여 케일리-해밀턴 정리가 성립함을 보여라."
   ]
  },
  {
   "cell_type": "code",
   "execution_count": 7,
   "metadata": {},
   "outputs": [
    {
     "name": "stdout",
     "output_type": "stream",
     "text": [
      "문제 (a)\n",
      "A =  Matrix([[1, -4, 1], [3, 2, 3], [1, 1, 3]])\n",
      "\n",
      "\n",
      "A의 특성다항식 : \n",
      " PurePoly(lamda**3 - 6*lamda**2 + 19*lamda - 28, lamda, domain='ZZ')\n",
      "\n",
      "\n",
      "특성다항식의 영이 아닌 계수들 :  [1, -6, 19, -28]\n",
      "\n",
      "\n",
      "p_A(A) =  Matrix([[0, 0, 0], [0, 0, 0], [0, 0, 0]])\n",
      "\n",
      "\n",
      "문제 (b)\n",
      "B =  Matrix([[0, 1, 0, 1], [1, 0, 1, 0], [0, 1, 0, 1], [1, 0, 1, 0]])\n",
      "\n",
      "\n",
      "B의 특성다항식 : \n",
      " PurePoly(lamda**4 - 4*lamda**2, lamda, domain='ZZ')\n",
      "\n",
      "\n",
      "특성다항식의 영이 아닌 계수들 :  [1, -4]\n",
      "\n",
      "\n",
      "p_B(B) = \n",
      " [[0 0 0 0]\n",
      " [0 0 0 0]\n",
      " [0 0 0 0]\n",
      " [0 0 0 0]]\n",
      "\n",
      "\n",
      "문제 (c)\n",
      "C =  Matrix([[2, -1, 0, -1], [-1, 2, -1, 0], [0, -1, 2, -1], [-1, 0, -1, 2]])\n",
      "\n",
      "\n",
      "C의 특성다항식 : \n",
      " PurePoly(lamda**4 - 8*lamda**3 + 20*lamda**2 - 16*lamda, lamda, domain='ZZ')\n",
      "\n",
      "\n",
      "특성다항식의 영이 아닌 계수들 :  [1, -8, 20, -16]\n",
      "\n",
      "\n",
      "p_C(C) = \n",
      " Matrix([[0, 0, 0, 0], [0, 0, 0, 0], [0, 0, 0, 0], [0, 0, 0, 0]])\n"
     ]
    }
   ],
   "source": [
    "import numpy as np\n",
    "import sympy as sp\n",
    "\n",
    "# 행렬 A의 케일리-해밀턴 정리 만족 여부 확인\n",
    "print(\"문제 (a)\")\n",
    "A = sp.Matrix([[1, -4, 1], [3, 2, 3], [1, 1, 3]])\n",
    "print(\"A = \", A)\n",
    "lamda = sp.symbols('lamda')\n",
    "p_A = A.charpoly(lamda)\n",
    "print(\"\\n\")\n",
    "print(\"A의 특성다항식 : \\n\",p_A)\n",
    "print(\"\\n\")\n",
    "print(\"특성다항식의 영이 아닌 계수들 : \", p_A.coeffs())\n",
    "\n",
    "# 행렬 A의 특성다항식을 먼저 구한 후 직접 행렬다항식을 코드로 작성하는 방법\n",
    "A2 = np.matmul(A, A)\n",
    "A3 = np.matmul(A, A2)\n",
    "char_coeff = p_A.coeffs()\n",
    "print(\"\\n\")\n",
    "print(\"p_A(A) = \",char_coeff[0]*A3 + char_coeff[1]*A2 + char_coeff[2]*A + char_coeff[3]*np.eye(3))\n",
    "print(\"\\n\")\n",
    "\n",
    "# 행렬 B의 케일리-해밀턴 정리 만족 여부 확인\n",
    "print(\"문제 (b)\")\n",
    "B = sp.Matrix([[0, 1, 0, 1], [1, 0, 1, 0], [0, 1, 0, 1], [1, 0, 1, 0]])\n",
    "print(\"B = \", B)\n",
    "lamda = sp.symbols('lamda')\n",
    "p_B = B.charpoly(lamda)\n",
    "print(\"\\n\")\n",
    "print(\"B의 특성다항식 : \\n\", p_B)\n",
    "print(\"\\n\")\n",
    "print(\"특성다항식의 영이 아닌 계수들 : \", p_B.coeffs())\n",
    "\n",
    "# 행렬 B의 특성다항식을 먼저 구한 후 직접 행렬다항식을 코드로 작성하는 방법\n",
    "B2 = np.matmul(B, B)\n",
    "B3 = np.matmul(B, B2)\n",
    "B4 = np.matmul(B, B3)\n",
    "char_coeff = p_B.coeffs()\n",
    "print(\"\\n\")\n",
    "print(\"p_B(B) = \\n\", char_coeff[0]*B4 + char_coeff[1]*B2 )\n",
    "print(\"\\n\")\n",
    "\n",
    "# 행렬 C의 케일리-해밀턴 정리 만족 여부 확인\n",
    "print(\"문제 (c)\")\n",
    "C = sp.Matrix([[2, -1, 0, -1], [-1, 2, -1, 0], [0, -1, 2, -1], [-1, 0, -1, 2]])\n",
    "print(\"C = \", C)\n",
    "lamda = sp.symbols('lamda')\n",
    "p_C = C.charpoly(lamda)\n",
    "print(\"\\n\")\n",
    "print(\"C의 특성다항식 : \\n\", p_C)\n",
    "print(\"\\n\")\n",
    "print(\"특성다항식의 영이 아닌 계수들 : \", p_C.coeffs())\n",
    "\n",
    "# 행렬 C의 특성다항식을 먼저 구한 후 직접 행렬다항식을 코드로 작성하는 방법\n",
    "C2 = np.matmul(C, C)\n",
    "C3 = np.matmul(C, C2)\n",
    "C4 = np.matmul(C, C3)\n",
    "char_coeff = p_C.coeffs()\n",
    "print(\"\\n\")\n",
    "print(\"p_C(C) = \\n\",char_coeff[0]*C4 + char_coeff[1]*C3 +char_coeff[2]*C2 + char_coeff[3]*C)"
   ]
  }
 ],
 "metadata": {
  "kernelspec": {
   "display_name": "Python 3",
   "language": "python",
   "name": "python3"
  },
  "language_info": {
   "codemirror_mode": {
    "name": "ipython",
    "version": 3
   },
   "file_extension": ".py",
   "mimetype": "text/x-python",
   "name": "python",
   "nbconvert_exporter": "python",
   "pygments_lexer": "ipython3",
   "version": "3.6.12"
  }
 },
 "nbformat": 4,
 "nbformat_minor": 4
}
