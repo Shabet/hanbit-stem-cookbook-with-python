{
 "cells": [
  {
   "cell_type": "markdown",
   "metadata": {},
   "source": [
    "# 13.1 퍼셉트론"
   ]
  },
  {
   "cell_type": "markdown",
   "metadata": {},
   "source": [
    "예제 13-1"
   ]
  },
  {
   "cell_type": "code",
   "execution_count": 1,
   "metadata": {},
   "outputs": [
    {
     "name": "stdout",
     "output_type": "stream",
     "text": [
      "(a) t(w^Tx1) =  -1\n",
      "(b) t(w^Tx2) =  1\n"
     ]
    }
   ],
   "source": [
    "import numpy as np\n",
    "\n",
    "# 계단함수의 값을 계산하는 함수\n",
    "def cal_step_function(val):\n",
    "    if val>=0:\n",
    "        step_val = 1\n",
    "    else :\n",
    "        step_val = -1\n",
    "    return step_val\n",
    "\n",
    "# 벡터 \n",
    "x_1 = np.array([[0, 1, 0, 1]])\n",
    "x_2 = np.array([[0, 0, 1, 1]])\n",
    "\n",
    "# 가중치\n",
    "w = np.array([[1, -2, 1, 1]])\n",
    "\n",
    "# x_1의 결과 계산\n",
    "wx_1 = np.dot(w, x_1.T)\n",
    "output_1 = cal_step_function(wx_1)\n",
    "\n",
    "print(\"(a) t(w^Tx1) = \", output_1)\n",
    "\n",
    "# x_2의 결과 계산\n",
    "wx_2 = np.dot(w, x_2.T)\n",
    "output_2 = cal_step_function(wx_2)\n",
    "print(\"(b) t(w^Tx2) = \", output_2)"
   ]
  },
  {
   "cell_type": "markdown",
   "metadata": {},
   "source": [
    "예제 13-2"
   ]
  },
  {
   "cell_type": "code",
   "execution_count": 2,
   "metadata": {},
   "outputs": [
    {
     "name": "stdout",
     "output_type": "stream",
     "text": [
      "(a) t(W^Tx1) =  (-1, 1)\n",
      "(b) t(W^Tx2) =  (1, 1)\n"
     ]
    }
   ],
   "source": [
    "import numpy as np\n",
    "\n",
    "# 계단함수의 값을 계산하는 함수\n",
    "def cal_step_function(val):\n",
    "    if val>=0:\n",
    "        step_val = 1\n",
    "    else :\n",
    "        step_val = -1\n",
    "    return step_val\n",
    "\n",
    "# 벡터 \n",
    "x_1 = np.array([[0, 1, 0, 1]])\n",
    "x_2 = np.array([[0, 0, 1, 1]])\n",
    "\n",
    "# 가중치 행렬\n",
    "W = np.array([[1, -2, 1, 1], [0, -1, 0, 1]])\n",
    "\n",
    "# x_1의 결과 계산\n",
    "Wx_1 = np.dot(W, x_1.T)\n",
    "output_1 = (cal_step_function(Wx_1[0]), cal_step_function(Wx_1[1])) \n",
    "\n",
    "print(\"(a) t(W^Tx1) = \", output_1)\n",
    "\n",
    "# x_2의 결과 계산\n",
    "Wx_2 = np.dot(W, x_2.T)\n",
    "output_2 = (cal_step_function(Wx_2[0]), cal_step_function(Wx_2[1])) \n",
    "print(\"(b) t(W^Tx2) = \", output_2)"
   ]
  },
  {
   "cell_type": "markdown",
   "metadata": {},
   "source": [
    "# 13.2 합성곱 신경망"
   ]
  },
  {
   "cell_type": "markdown",
   "metadata": {},
   "source": [
    "예제 13-3"
   ]
  },
  {
   "cell_type": "code",
   "execution_count": 3,
   "metadata": {},
   "outputs": [
    {
     "name": "stdout",
     "output_type": "stream",
     "text": [
      "output =  [ 0.  2.  5.  7.  9. 11. 13.  1. -6.  0.]\n"
     ]
    }
   ],
   "source": [
    "import numpy as np\n",
    "\n",
    "# 벡터 \n",
    "x = np.array([1, 2, 3, 4, 5, 6])\n",
    "\n",
    "# 필터\n",
    "w = np.array([2, 1, -1])\n",
    "\n",
    "# x의 양 끝에 0 추가\n",
    "x_pad = np.zeros(12)\n",
    "x_pad[3:9] = x\n",
    "\n",
    "# 합성곱 계산\n",
    "output = np.zeros(10)\n",
    "for i in range(10):\n",
    "    output[i] = x_pad[i+2]*w[0] + x_pad[i+1]*w[1] + x_pad[i+0]*w[2] \n",
    "print(\"output = \", output)"
   ]
  },
  {
   "cell_type": "markdown",
   "metadata": {},
   "source": [
    "예제 13-4"
   ]
  },
  {
   "cell_type": "code",
   "execution_count": 4,
   "metadata": {},
   "outputs": [
    {
     "name": "stdout",
     "output_type": "stream",
     "text": [
      "(a) outputsize_1 =  7.0\n",
      "(b) outputsize_2 =  5.0\n",
      "(c) outputsize_3 =  4.0\n"
     ]
    }
   ],
   "source": [
    "import numpy as np\n",
    "\n",
    "# 합성곱의 출력 크기를 계산하는 함수\n",
    "def cal_output_size(num_x, num_w, pad, stride ):\n",
    "    output_size_val = np.floor((num_x + 2*pad - num_w)/stride) +1 \n",
    "    return output_size_val\n",
    "\n",
    "# 문제 (a)\n",
    "outputsize_1 = cal_output_size(9,3,0,1)\n",
    "print(\"(a) outputsize_1 = \", outputsize_1)\n",
    "\n",
    "# 문제 (b)\n",
    "outputsize_2 = cal_output_size(10,3,1,2)\n",
    "print(\"(b) outputsize_2 = \", outputsize_2)\n",
    "\n",
    "# 문제 (c)\n",
    "outputsize_3 = cal_output_size(11,4,2,3)\n",
    "print(\"(c) outputsize_3 = \", outputsize_3)"
   ]
  },
  {
   "cell_type": "markdown",
   "metadata": {},
   "source": [
    "예제 13-5"
   ]
  },
  {
   "cell_type": "code",
   "execution_count": 5,
   "metadata": {},
   "outputs": [
    {
     "name": "stdout",
     "output_type": "stream",
     "text": [
      "outputsize =  2 x 2\n"
     ]
    }
   ],
   "source": [
    "import numpy as np\n",
    "\n",
    "# 합성곱의 출력 크기를 계산하는 함수\n",
    "def cal_output_size(size_X, size_W, pad, stride ):\n",
    "    output_size_val = np.floor((size_X + 2*pad - size_W)/stride) +1 \n",
    "    return output_size_val\n",
    "\n",
    "outputsize_row = cal_output_size(6,3,0,3)\n",
    "outputsize_col = cal_output_size(6,3,0,3)\n",
    "outputsize = str(int(outputsize_row)) +' x '+ str(int(outputsize_col))\n",
    "print(\"outputsize = \", outputsize)"
   ]
  },
  {
   "cell_type": "markdown",
   "metadata": {},
   "source": [
    "예제 13-6"
   ]
  },
  {
   "cell_type": "code",
   "execution_count": 6,
   "metadata": {},
   "outputs": [
    {
     "name": "stdout",
     "output_type": "stream",
     "text": [
      "(a) p = (0, 0)일 때\n",
      "필터 행렬의 크기가 2×2일 때, 출력 행렬의 크기가 입력 행렬보다 작은가? True\n",
      "필터 행렬의 크기가 3×3일 때, 출력 행렬의 크기가 입력 행렬보다 작은가? True\n",
      "필터 행렬의 크기가 4×4일 때, 출력 행렬의 크기가 입력 행렬보다 작은가? True\n",
      "필터 행렬의 크기가 5×5일 때, 출력 행렬의 크기가 입력 행렬보다 작은가? True\n",
      "\n",
      "\n",
      "(b) p = (1, 1)일 때\n",
      "필터 행렬의 크기가 2×2일 때, 출력 행렬의 크기가 입력 행렬보다 큰가? True\n",
      "필터 행렬의 크기가 3×3일 때, 출력 행렬의 크기가 입력 행렬과 같은가? True\n",
      "필터 행렬의 크기가 4×4일 때, 출력 행렬의 크기가 입력 행렬보다 작은가? True\n",
      "필터 행렬의 크기가 5×5일 때, 출력 행렬의 크기가 입력 행렬보다 작은가? True\n",
      "\n",
      "\n",
      "(c) p = (2, 2)일 때\n",
      "필터 행렬의 크기가 3×3일 때, 출력 행렬의 크기가 입력 행렬보다 큰가? True\n",
      "필터 행렬의 크기가 4×4일 때, 출력 행렬의 크기가 입력 행렬보다 큰가? True\n",
      "필터 행렬의 크기가 5×5일 때, 출력 행렬의 크기가 입력 행렬과 같은가? True\n"
     ]
    }
   ],
   "source": [
    "import numpy as np\n",
    "\n",
    "# 합성곱의 출력 크기(출력 행렬의 크기)를 계산하는 함수\n",
    "def cal_output_size(size_X, size_W, pad, stride ):\n",
    "    output_size_val = np.floor((size_X+ 2*pad - size_W)/stride) +1\n",
    "    return output_size_val\n",
    "\n",
    "# 6×6 크기의 영행렬 생성 - 가상 이미지의 크기로 사용\n",
    "X = np.zeros((6,6))\n",
    "X.shape\n",
    "\n",
    "# 문제 (a)\n",
    "print(\"(a) p = (0, 0)일 때\")\n",
    "outputsize_row_1 = cal_output_size(6,2,0,1)\n",
    "outputsize_col_1 = cal_output_size(6,2,0,1)\n",
    "outputsize_1 = (outputsize_row_1, outputsize_col_1)\n",
    "\n",
    "outputsize_row_2 = cal_output_size(6,3,0,1)\n",
    "outputsize_col_2 = cal_output_size(6,3,0,1)\n",
    "outputsize_2 = (outputsize_row_2, outputsize_col_2)\n",
    "\n",
    "outputsize_row_3 = cal_output_size(6,4,0,1)\n",
    "outputsize_col_3 = cal_output_size(6,4,0,1)\n",
    "outputsize_3 = (outputsize_row_3, outputsize_col_3)\n",
    "\n",
    "outputsize_row_4 = cal_output_size(6,5,0,1)\n",
    "outputsize_col_4 = cal_output_size(6,5,0,1)\n",
    "outputsize_4 = (outputsize_row_4, outputsize_col_4)\n",
    "\n",
    "print(\"필터 행렬의 크기가 2×2일 때, 출력 행렬의 크기가 입력 행렬보다 작은가?\", X.shape > outputsize_1 )\n",
    "print(\"필터 행렬의 크기가 3×3일 때, 출력 행렬의 크기가 입력 행렬보다 작은가?\", X.shape > outputsize_2 )\n",
    "print(\"필터 행렬의 크기가 4×4일 때, 출력 행렬의 크기가 입력 행렬보다 작은가?\", X.shape > outputsize_3 )\n",
    "print(\"필터 행렬의 크기가 5×5일 때, 출력 행렬의 크기가 입력 행렬보다 작은가?\", X.shape > outputsize_4 )\n",
    "print(\"\\n\")\n",
    "\n",
    "# 문제 (b)\n",
    "print(\"(b) p = (1, 1)일 때\")\n",
    "outputsize_row_1 = cal_output_size(6,2,1,1)\n",
    "outputsize_col_1 = cal_output_size(6,2,1,1)\n",
    "outputsize_1 = (outputsize_row_1, outputsize_col_1)\n",
    "\n",
    "outputsize_row_2 = cal_output_size(6,3,1,1)\n",
    "outputsize_col_2 = cal_output_size(6,3,1,1)\n",
    "outputsize_2 = (outputsize_row_2, outputsize_col_2)\n",
    "\n",
    "outputsize_row_3 = cal_output_size(6,4,1,1)\n",
    "outputsize_col_3 = cal_output_size(6,4,1,1)\n",
    "outputsize_3 = (outputsize_row_3, outputsize_col_3)\n",
    "\n",
    "outputsize_row_4 = cal_output_size(6,5,1,1)\n",
    "outputsize_col_4 = cal_output_size(6,5,1,1)\n",
    "outputsize_4 = (outputsize_row_4, outputsize_col_4)\n",
    "\n",
    "print(\"필터 행렬의 크기가 2×2일 때, 출력 행렬의 크기가 입력 행렬보다 큰가?\", X.shape < outputsize_1 )\n",
    "print(\"필터 행렬의 크기가 3×3일 때, 출력 행렬의 크기가 입력 행렬과 같은가?\", X.shape == outputsize_2 )\n",
    "print(\"필터 행렬의 크기가 4×4일 때, 출력 행렬의 크기가 입력 행렬보다 작은가?\", X.shape > outputsize_3 )\n",
    "print(\"필터 행렬의 크기가 5×5일 때, 출력 행렬의 크기가 입력 행렬보다 작은가?\", X.shape > outputsize_4 )\n",
    "print(\"\\n\")\n",
    "\n",
    "# 문제 (c)\n",
    "print(\"(c) p = (2, 2)일 때\")\n",
    "outputsize_row_1 = cal_output_size(6,3,2,1)\n",
    "outputsize_col_1 = cal_output_size(6,3,2,1)\n",
    "outputsize_1 = (outputsize_row_1, outputsize_col_1)\n",
    "\n",
    "outputsize_row_2 = cal_output_size(6,4,2,1)\n",
    "outputsize_col_2 = cal_output_size(6,4,2,1)\n",
    "outputsize_2 = (outputsize_row_2, outputsize_col_2)\n",
    "\n",
    "outputsize_row_3 = cal_output_size(6,5,2,1)\n",
    "outputsize_col_3 = cal_output_size(6,5,2,1)\n",
    "outputsize_3 = (outputsize_row_3, outputsize_col_3)\n",
    "\n",
    "print(\"필터 행렬의 크기가 3×3일 때, 출력 행렬의 크기가 입력 행렬보다 큰가?\", X.shape < outputsize_1 )\n",
    "print(\"필터 행렬의 크기가 4×4일 때, 출력 행렬의 크기가 입력 행렬보다 큰가?\", X.shape < outputsize_2 )\n",
    "print(\"필터 행렬의 크기가 5×5일 때, 출력 행렬의 크기가 입력 행렬과 같은가?\", X.shape == outputsize_3 )"
   ]
  },
  {
   "cell_type": "markdown",
   "metadata": {},
   "source": [
    "예제 13-7"
   ]
  },
  {
   "cell_type": "code",
   "execution_count": 7,
   "metadata": {},
   "outputs": [
    {
     "name": "stdout",
     "output_type": "stream",
     "text": [
      "output = \n",
      " [[16.3 19. ]\n",
      " [13.9 14.6]]\n"
     ]
    }
   ],
   "source": [
    "import numpy as np\n",
    "\n",
    "# 입력 행렬 X\n",
    "X = np.array([[1, 14, 15, 4],[8, 11, 10, 5],[12, 7, 6, 9],[13, 2, 3, 16]])\n",
    "\n",
    "# 필터 행렬 W\n",
    "W = np.array([[0.4, 0.9, 0.2],[0.3, 0.5, 0.7],[0.8, 0.1, 0.6]])\n",
    "\n",
    "# X의 상하좌우의 양 끝에 0 추가\n",
    "X_pad = np.zeros((6,6))\n",
    "X_pad[1:5, 1:5] = X\n",
    "\n",
    "# 합성곱 계산\n",
    "output = np.zeros((2,2))\n",
    "\n",
    "for i in range(2):\n",
    "    output_val = 0\n",
    "    for j in range(2):\n",
    "        output_val_1 = X_pad[3*i+2][3*j+2]*W[0][0] + X_pad[3*i+2][3*j+1]*W[0][1] + X_pad[3*i+2][3*j+0]*W[0][2]\n",
    "        output_val_2 = X_pad[3*i+1][3*j+2]*W[1][0] + X_pad[3*i+1][3*j+1]*W[1][1] + X_pad[3*i+1][3*j+0]*W[1][2]\n",
    "        output_val_3 = X_pad[3*i+0][3*j+2]*W[2][0] + X_pad[3*i+0][3*j+1]*W[2][1] + X_pad[3*i+0][3*j+0]*W[2][2]\n",
    "        output_val = output_val_1 + output_val_2 + output_val_3\n",
    "        output[i][j] = output_val\n",
    "        \n",
    "print(\"output = \\n\", output)"
   ]
  },
  {
   "cell_type": "markdown",
   "metadata": {},
   "source": [
    "예제 13-8"
   ]
  },
  {
   "cell_type": "code",
   "execution_count": 8,
   "metadata": {},
   "outputs": [
    {
     "name": "stdout",
     "output_type": "stream",
     "text": [
      "max pooling output = \n",
      " [[14. 15.]\n",
      " [13. 16.]]\n",
      "\n",
      "\n",
      "average pooling output = \n",
      " [[8.5 8.5]\n",
      " [8.5 8.5]]\n"
     ]
    }
   ],
   "source": [
    "import numpy as np\n",
    "\n",
    "# 특성맵 C와 평균 행렬 W\n",
    "C = np.array([[1, 14, 15, 4],[8, 11, 10, 5],[12, 7, 6, 9],[13, 2, 3, 16]])\n",
    "average_W= np.array([[1/4, 1/4],[1/4, 1/4]])\n",
    "\n",
    "# 최대 풀링 계산\n",
    "output = np.zeros((2,2))\n",
    "for i in range(2):\n",
    "    output_val = 0\n",
    "    for j in range(2):\n",
    "        output_cal_mat = C[2*i+0:2*i+2 , 2*j+0:2*j+2]\n",
    "        output_val = np.max(output_cal_mat)\n",
    "        output[i][j] = output_val\n",
    "\n",
    "print(\"max pooling output = \\n\", output)\n",
    "print(\"\\n\")\n",
    "\n",
    "# 평균 풀링 계산\n",
    "output = np.zeros((2,2))\n",
    "\n",
    "for i in range(2):\n",
    "    output_val = 0\n",
    "    for j in range(2):\n",
    "        output_val_1 = C[2*i+1][2*j+1]*average_W[0][0] + C[2*i+1][2*j+0]*average_W[0][1]\n",
    "        output_val_2 = C[2*i+0][2*j+1]*average_W[1][0] + C[2*i+0][2*j+0]*average_W[1][1]\n",
    "        output_val = output_val_1 + output_val_2\n",
    "        output[i][j] = output_val\n",
    "\n",
    "print(\"average pooling output = \\n\", output)"
   ]
  },
  {
   "cell_type": "markdown",
   "metadata": {},
   "source": [
    "# 13.3 순환 신경망"
   ]
  },
  {
   "cell_type": "markdown",
   "metadata": {},
   "source": [
    "예제 13-9"
   ]
  },
  {
   "cell_type": "code",
   "execution_count": 9,
   "metadata": {},
   "outputs": [
    {
     "name": "stdout",
     "output_type": "stream",
     "text": [
      "ouput =  [0. 2.]\n"
     ]
    }
   ],
   "source": [
    "import numpy as np\n",
    "# 계단함수의 값을 계산하는 함수\n",
    "def cal_step_function(vec_val):\n",
    "    step_vec_val = np.zeros(len(vec_val))\n",
    "    for i in range(len(vec_val)) :\n",
    "        val = vec_val[i]\n",
    "        if val>=0:\n",
    "            step_val = 1\n",
    "            step_vec_val[i] = step_val\n",
    "        else :\n",
    "            step_val = -1\n",
    "            step_vec_val[i] = step_val\n",
    "    return step_vec_val\n",
    "\n",
    "# ReLU 함수의 값을 계산하는 함수\n",
    "def cal_ReLU_function(vec_val):\n",
    "    ReLU_vec_val = np.zeros(len(vec_val))\n",
    "    for i in range(len(vec_val)) :\n",
    "        val = vec_val[i]\n",
    "        if val>=0:\n",
    "            ReLU_val = val\n",
    "            ReLU_vec_val[i] = ReLU_val\n",
    "        else :\n",
    "            ReLU_val = 0\n",
    "            ReLU_vec_val[i] = ReLU_val\n",
    "    return ReLU_vec_val\n",
    "\n",
    "# 입력 벡터와 이전 은닉층\n",
    "x = np.array([-1,1])\n",
    "h0 = np.array([1,0])\n",
    "\n",
    "# 가중치 행렬\n",
    "W_xh = np.array([[1,-1],[0, 1] ])\n",
    "W_ho = np.array([[3,1],[-2, 0] ])\n",
    "W_hh = np.array([[1, 1],[2, 1] ])\n",
    "\n",
    "# 중간 은닉층 출력\n",
    "hidden_output = cal_step_function(np.dot(W_xh, x.T) + np.dot(W_hh, h0.T))\n",
    "\n",
    "# 최종 출력값\n",
    "output = cal_ReLU_function(np.dot(W_ho, hidden_output.T))\n",
    "print(\"ouput = \", output)"
   ]
  },
  {
   "cell_type": "markdown",
   "metadata": {},
   "source": [
    "# Ch 13 프로그래밍 실습"
   ]
  },
  {
   "cell_type": "markdown",
   "metadata": {},
   "source": [
    "13.1 MNIST 데이터셋을 이용하여 다층 퍼셉트론을 학습하고 테스트하는 파이썬 프로그래밍 실습을 구현하라."
   ]
  },
  {
   "cell_type": "code",
   "execution_count": 10,
   "metadata": {},
   "outputs": [
    {
     "data": {
      "image/png": "[encoded data removed]",
      "text/plain": [
       "<Figure size 432x288 with 1 Axes>"
      ]
     },
     "metadata": {
      "needs_background": "light"
     },
     "output_type": "display_data"
    }
   ],
   "source": [
    "# mnist.load_data() : MNIST 데이터셋을 다운로드하여 불러오는 함수 \n",
    "from keras.datasets import mnist\n",
    "(X_train, Y_class_train), (X_test, Y_class_test) = mnist.load_data()\n",
    "\n",
    "# MNIST \n",
    "import matplotlib.pyplot as plt\n",
    "plt.imshow(X_train[0], cmap='Greys')\n",
    "plt.show()"
   ]
  },
  {
   "cell_type": "code",
   "execution_count": 11,
   "metadata": {},
   "outputs": [
    {
     "name": "stdout",
     "output_type": "stream",
     "text": [
      "Y_train[0] =  [0. 0. 0. 0. 0. 1. 0. 0. 0. 0.]\n"
     ]
    }
   ],
   "source": [
    "# 다층퍼셉트론의 입력 값으로 하기 위해 2차원 배열을 1차원 배열로 바꾸기(reshape)\n",
    "X_train = X_train.reshape(X_train.shape[0], 784)\n",
    "\n",
    "# 데이터 정규화(normalization)\n",
    "\n",
    "X_train = X_train.astype('float64')\n",
    "X_train = X_train / 255\n",
    "X_test = X_test.reshape(X_test.shape[0], 784).astype('float64') / 255\n",
    "\n",
    "# 원-핫 인코딩\n",
    "\n",
    "from keras.utils.np_utils import to_categorical # 또는 from keras.utils import to_categorical\n",
    "Y_train = to_categorical(Y_class_train, 10)\n",
    "Y_test = to_categorical(Y_class_test, 10)\n",
    "\n",
    "print(\"Y_train[0] = \", Y_train[0] )"
   ]
  },
  {
   "cell_type": "code",
   "execution_count": 12,
   "metadata": {},
   "outputs": [
    {
     "name": "stdout",
     "output_type": "stream",
     "text": [
      "Model: \"sequential\"\n",
      "_________________________________________________________________\n",
      "Layer (type)                 Output Shape              Param #   \n",
      "=================================================================\n",
      "dense (Dense)                (None, 512)               401920    \n",
      "_________________________________________________________________\n",
      "dense_1 (Dense)              (None, 10)                5130      \n",
      "=================================================================\n",
      "Total params: 407,050\n",
      "Trainable params: 407,050\n",
      "Non-trainable params: 0\n",
      "_________________________________________________________________\n"
     ]
    }
   ],
   "source": [
    "# 다층 퍼셉트론 만들기\n",
    "from keras.models import Sequential\n",
    "from keras.layers import Dense\n",
    "from keras.callbacks import ModelCheckpoint, EarlyStopping\n",
    "\n",
    "model = Sequential()\n",
    "# 은닉층. 입력값: 784개, 활성화 함수: ReLU 함수\n",
    "model.add(Dense(512, input_dim=784, activation='relu'))\n",
    "# 출력층. 클래스: 10개, 활성화 함수: 소프트 맥스 함수 \n",
    "model.add(Dense(10, activation='softmax'))  \n",
    "\n",
    "model.compile(loss='categorical_crossentropy', optimizer='adam', metrics=['accuracy'])\n",
    "# 다층퍼셉트론 모델 정보 확인하기\n",
    "model.summary() "
   ]
  },
  {
   "cell_type": "code",
   "execution_count": 13,
   "metadata": {},
   "outputs": [
    {
     "name": "stdout",
     "output_type": "stream",
     "text": [
      "Epoch 1/10\n",
      "300/300 [==============================] - 2s 3ms/step - loss: 0.5226 - accuracy: 0.8570 - val_loss: 0.1512 - val_accuracy: 0.9558\n",
      "Epoch 2/10\n",
      "300/300 [==============================] - 1s 2ms/step - loss: 0.1332 - accuracy: 0.9618 - val_loss: 0.0995 - val_accuracy: 0.9701\n",
      "Epoch 3/10\n",
      "300/300 [==============================] - 1s 2ms/step - loss: 0.0820 - accuracy: 0.9767 - val_loss: 0.0818 - val_accuracy: 0.9747\n",
      "Epoch 4/10\n",
      "300/300 [==============================] - 1s 2ms/step - loss: 0.0583 - accuracy: 0.9834 - val_loss: 0.0723 - val_accuracy: 0.9771\n",
      "Epoch 5/10\n",
      "300/300 [==============================] - 1s 2ms/step - loss: 0.0426 - accuracy: 0.9882 - val_loss: 0.0642 - val_accuracy: 0.9794\n",
      "Epoch 6/10\n",
      "300/300 [==============================] - 1s 2ms/step - loss: 0.0321 - accuracy: 0.9912 - val_loss: 0.0635 - val_accuracy: 0.9800\n",
      "Epoch 7/10\n",
      "300/300 [==============================] - 1s 2ms/step - loss: 0.0239 - accuracy: 0.9940 - val_loss: 0.0595 - val_accuracy: 0.9809\n",
      "Epoch 8/10\n",
      "300/300 [==============================] - 1s 2ms/step - loss: 0.0199 - accuracy: 0.9956 - val_loss: 0.0597 - val_accuracy: 0.9811\n",
      "Epoch 9/10\n",
      "300/300 [==============================] - 1s 2ms/step - loss: 0.0137 - accuracy: 0.9977 - val_loss: 0.0590 - val_accuracy: 0.9811\n",
      "Epoch 10/10\n",
      "300/300 [==============================] - 1s 2ms/step - loss: 0.0117 - accuracy: 0.9978 - val_loss: 0.0611 - val_accuracy: 0.9832\n"
     ]
    }
   ],
   "source": [
    "# 다층 퍼셉트론 모델 학습시키기\n",
    "\n",
    "history = model.fit(X_train, Y_train, validation_data=(X_test, Y_test), epochs=10, batch_size=200, verbose=1)"
   ]
  },
  {
   "cell_type": "code",
   "execution_count": 14,
   "metadata": {},
   "outputs": [
    {
     "data": {
      "image/png": "[encoded data removed]",
      "text/plain": [
       "<Figure size 432x288 with 1 Axes>"
      ]
     },
     "metadata": {
      "needs_background": "light"
     },
     "output_type": "display_data"
    }
   ],
   "source": [
    "# 다층 퍼셉트론 학습 결과 그래프로 확인하기\n",
    "import matplotlib.pyplot as plt\n",
    "import numpy as np\n",
    "# 검증 데이터 셋의 오차\n",
    "y_vloss = history.history['val_loss']\n",
    "# 학습 데이터 셋의 오차\n",
    "y_loss = history.history['loss']\n",
    "# 검증 데이터 셋의 정확도\n",
    "y_vACC = history.history['val_accuracy']\n",
    "# 학습 데이터 셋의 정확도\n",
    "y_ACC = history.history['accuracy']\n",
    "# 정확도, 오차를 그래프로 나타내기\n",
    "x_len = np.arange(len(y_loss))\n",
    "plt.plot(x_len, y_vloss, marker='.', c=\"red\", label='Testset_loss')\n",
    "plt.plot(x_len, y_loss, marker='.', c=\"blue\", label='Trainset_loss')\n",
    "plt.plot(x_len, y_vACC, marker='.', c=\"yellow\", label='Testset_accuracy')\n",
    "plt.plot(x_len, y_ACC, marker='.', c=\"green\", label='Trainset_accuracy')\n",
    "# 그래프에 그리드 넣고 레이블 표시\n",
    "plt.legend(loc='upper right')\n",
    "plt.grid()\n",
    "plt.xlabel('epoch')\n",
    "plt.ylabel('loss / accuracy')\n",
    "plt.show()"
   ]
  },
  {
   "cell_type": "code",
   "execution_count": 15,
   "metadata": {},
   "outputs": [
    {
     "name": "stdout",
     "output_type": "stream",
     "text": [
      "313/313 [==============================] - 1s 2ms/step - loss: 0.0611 - accuracy: 0.9832\n",
      "\n",
      " 테스트 데이터셋의 정확도 : 0.9832\n"
     ]
    }
   ],
   "source": [
    "# 테스트 정확도\n",
    "print(\"\\n 테스트 데이터셋의 정확도 : %.4f\" %(model.evaluate(X_test, Y_test)[1]))"
   ]
  },
  {
   "cell_type": "markdown",
   "metadata": {},
   "source": [
    "13.2 MNIST 데이터셋을 이용하여 합성곱 신경망을 학습하고 테스트하는 파이썬 프로그래밍 실습을 구현하라."
   ]
  },
  {
   "cell_type": "code",
   "execution_count": 16,
   "metadata": {},
   "outputs": [
    {
     "name": "stdout",
     "output_type": "stream",
     "text": [
      "Model: \"sequential_1\"\n",
      "_________________________________________________________________\n",
      "Layer (type)                 Output Shape              Param #   \n",
      "=================================================================\n",
      "conv2d (Conv2D)              (None, 26, 26, 32)        320       \n",
      "_________________________________________________________________\n",
      "conv2d_1 (Conv2D)            (None, 24, 24, 64)        18496     \n",
      "_________________________________________________________________\n",
      "max_pooling2d (MaxPooling2D) (None, 12, 12, 64)        0         \n",
      "_________________________________________________________________\n",
      "dropout (Dropout)            (None, 12, 12, 64)        0         \n",
      "_________________________________________________________________\n",
      "flatten (Flatten)            (None, 9216)              0         \n",
      "_________________________________________________________________\n",
      "dense_2 (Dense)              (None, 128)               1179776   \n",
      "_________________________________________________________________\n",
      "dropout_1 (Dropout)          (None, 128)               0         \n",
      "_________________________________________________________________\n",
      "dense_3 (Dense)              (None, 10)                1290      \n",
      "=================================================================\n",
      "Total params: 1,199,882\n",
      "Trainable params: 1,199,882\n",
      "Non-trainable params: 0\n",
      "_________________________________________________________________\n"
     ]
    }
   ],
   "source": [
    "# mnist.load_data() : MNIST 데이터셋을 다운로드하여 불러오는 함수\n",
    "from keras.datasets import mnist\n",
    "(X_train, Y_class_train), (X_test, Y_class_test) = mnist.load_data()\n",
    "\n",
    "# 데이터 정규화\n",
    "X_train = X_train.reshape(X_train.shape[0], 28, 28, 1).astype('float64') / 255\n",
    "X_test = X_test.reshape(X_test.shape[0], 28, 28, 1).astype('float64') / 255\n",
    "\n",
    "# 원-핫 인코딩\n",
    "from keras.utils.np_utils import to_categorical\n",
    "# 또는 from keras.utils import to_categorical\n",
    "Y_train = to_categorical(Y_class_train, 10)\n",
    "Y_test = to_categorical(Y_class_test, 10)\n",
    "\n",
    "# 합성곱 신경망 만들기\n",
    "# keras에서 합성곱 신경망 사용하기\n",
    "from keras.models import Sequential\n",
    "from keras.layers import Dense, Conv2D, Flatten, MaxPooling2D, Dropout\n",
    "model = Sequential()\n",
    "model.add(Conv2D(32, kernel_size=(3,3), input_shape=(28, 28, 1), activation='relu'))\n",
    "model.add(Conv2D(64,(3,3), activation='relu'))\n",
    "model.add(MaxPooling2D(pool_size=2))\n",
    "model.add(Dropout(0.25))\n",
    "model.add(Flatten())\n",
    "model.add(Dense(128, activation='relu'))\n",
    "model.add(Dropout(0.5))\n",
    "model.add(Dense(10, activation='softmax'))\n",
    "model.compile(loss='categorical_crossentropy', optimizer='adam',metrics=['accuracy'])\n",
    "model.summary()"
   ]
  },
  {
   "cell_type": "code",
   "execution_count": 17,
   "metadata": {},
   "outputs": [
    {
     "name": "stdout",
     "output_type": "stream",
     "text": [
      "Epoch 1/5\n",
      "300/300 [==============================] - 6s 6ms/step - loss: 0.5564 - accuracy: 0.8244 - val_loss: 0.0609 - val_accuracy: 0.9807\n",
      "Epoch 2/5\n",
      "300/300 [==============================] - 2s 5ms/step - loss: 0.0936 - accuracy: 0.9720 - val_loss: 0.0401 - val_accuracy: 0.9869\n",
      "Epoch 3/5\n",
      "300/300 [==============================] - 2s 5ms/step - loss: 0.0725 - accuracy: 0.9779 - val_loss: 0.0349 - val_accuracy: 0.9879\n",
      "Epoch 4/5\n",
      "300/300 [==============================] - 2s 5ms/step - loss: 0.0587 - accuracy: 0.9826 - val_loss: 0.0344 - val_accuracy: 0.9879\n",
      "Epoch 5/5\n",
      "300/300 [==============================] - 2s 5ms/step - loss: 0.0484 - accuracy: 0.9846 - val_loss: 0.0292 - val_accuracy: 0.9908\n"
     ]
    }
   ],
   "source": [
    "# 합성곱 신경망 모델 학습하기\n",
    "history = model.fit(X_train, Y_train, validation_data=(X_test, Y_test), epochs=5, batch_size=200, verbose=1)"
   ]
  },
  {
   "cell_type": "code",
   "execution_count": 18,
   "metadata": {},
   "outputs": [
    {
     "data": {
      "image/png": "[encoded data removed]",
      "text/plain": [
       "<Figure size 432x288 with 1 Axes>"
      ]
     },
     "metadata": {
      "needs_background": "light"
     },
     "output_type": "display_data"
    }
   ],
   "source": [
    "# 합성곱 학습 결과 그래프로 확인하기\n",
    "import matplotlib.pyplot as plt\n",
    "import numpy as np\n",
    "# 검증 데이터 셋의 오차\n",
    "y_vloss = history.history['val_loss']\n",
    "# 학습 데이터 셋의 오차\n",
    "y_loss = history.history['loss']\n",
    "# 검증 데이터 셋의 정확도\n",
    "y_vACC = history.history['val_accuracy']\n",
    "# 학습 데이터 셋의 정확도\n",
    "y_ACC = history.history['accuracy']\n",
    "# 정확도, 오차를 그래프로 나타내기\n",
    "x_len = np.arange(len(y_loss))\n",
    "plt.plot(x_len, y_vloss, marker='.', c=\"red\", label='Testset_loss')\n",
    "plt.plot(x_len, y_loss, marker='.', c=\"blue\", label='Trainset_loss')\n",
    "plt.plot(x_len, y_vACC, marker='.', c=\"yellow\", label='Testset_accuracy')\n",
    "plt.plot(x_len, y_ACC, marker='.', c=\"green\", label='Trainset_accuracy')\n",
    "# 그래프에 그리드 넣고 레이블 표시\n",
    "plt.legend(loc='upper right')\n",
    "plt.grid()\n",
    "plt.xlabel('epoch')\n",
    "plt.ylabel('loss / accuracy')\n",
    "plt.show()"
   ]
  },
  {
   "cell_type": "code",
   "execution_count": 19,
   "metadata": {},
   "outputs": [
    {
     "name": "stdout",
     "output_type": "stream",
     "text": [
      "313/313 [==============================] - 3s 5ms/step - loss: 0.0292 - accuracy: 0.9908\n",
      "\n",
      " 테스트 데이터셋의 정확도 : 0.9908\n"
     ]
    }
   ],
   "source": [
    "# 테스트 정확도\n",
    "print(\"\\n 테스트 데이터셋의 정확도 : %.4f\" %(model.evaluate(X_test, Y_test)[1]))"
   ]
  },
  {
   "cell_type": "markdown",
   "metadata": {},
   "source": [
    "13.3 MNIST 데이터셋을 이용하여 순환 신경망을 학습하고 테스트하는 파이썬 프로그래밍 실습을 구현하라."
   ]
  },
  {
   "cell_type": "code",
   "execution_count": 20,
   "metadata": {},
   "outputs": [
    {
     "name": "stdout",
     "output_type": "stream",
     "text": [
      "Model: \"model\"\n",
      "_________________________________________________________________\n",
      "Layer (type)                 Output Shape              Param #   \n",
      "=================================================================\n",
      "input_1 (InputLayer)         [(None, 28, 28)]          0         \n",
      "_________________________________________________________________\n",
      "simple_rnn (SimpleRNN)       (None, 64)                5952      \n",
      "_________________________________________________________________\n",
      "dense_4 (Dense)              (None, 10)                650       \n",
      "=================================================================\n",
      "Total params: 6,602\n",
      "Trainable params: 6,602\n",
      "Non-trainable params: 0\n",
      "_________________________________________________________________\n"
     ]
    }
   ],
   "source": [
    "# mnist.load_data() : MNIST 데이터셋을 다운로드하여 불러오는 함수\n",
    "from keras.datasets import mnist\n",
    "\n",
    "(X_train, Y_class_train), (X_test, Y_class_test) = mnist.load_data()\n",
    "\n",
    "# 데이터 정규화\n",
    "X_train = X_train.reshape(X_train.shape[0], 28, 28).astype('float64') / 255\n",
    "X_test = X_test.reshape(X_test.shape[0], 28, 28).astype('float64') / 255\n",
    "\n",
    "# 원-핫 인코딩\n",
    "from keras.utils.np_utils import to_categorical\n",
    "# 또는 from keras.utils import to_categorical\n",
    "Y_train = to_categorical(Y_class_train, 10)\n",
    "Y_test = to_categorical(Y_class_test, 10)\n",
    "\n",
    "# 순환 신경망 만들기\n",
    "from keras.layers import SimpleRNN\n",
    "from keras.layers import Dense, Input\n",
    "from keras.models import Model\n",
    "inputs = Input(shape=(28, 28))\n",
    "x1 = SimpleRNN(64, activation=\"tanh\")(inputs)\n",
    "x2 = Dense(10, activation=\"softmax\")(x1)\n",
    "model = Model(inputs, x2)\n",
    "model.compile(loss='categorical_crossentropy', optimizer='adam', metrics = [\"accuracy\"])\n",
    "model.summary()"
   ]
  },
  {
   "cell_type": "code",
   "execution_count": 21,
   "metadata": {},
   "outputs": [
    {
     "name": "stdout",
     "output_type": "stream",
     "text": [
      "Epoch 1/5\n",
      "300/300 [==============================] - 7s 20ms/step - loss: 1.2594 - accuracy: 0.5902 - val_loss: 0.4090 - val_accuracy: 0.8780\n",
      "Epoch 2/5\n",
      "300/300 [==============================] - 6s 18ms/step - loss: 0.3792 - accuracy: 0.8903 - val_loss: 0.2738 - val_accuracy: 0.9184\n",
      "Epoch 3/5\n",
      "300/300 [==============================] - 6s 18ms/step - loss: 0.2690 - accuracy: 0.9216 - val_loss: 0.2438 - val_accuracy: 0.9297\n",
      "Epoch 4/5\n",
      "300/300 [==============================] - 6s 21ms/step - loss: 0.2343 - accuracy: 0.9323 - val_loss: 0.2095 - val_accuracy: 0.9378\n",
      "Epoch 5/5\n",
      "300/300 [==============================] - 6s 20ms/step - loss: 0.2044 - accuracy: 0.9417 - val_loss: 0.2029 - val_accuracy: 0.9428\n"
     ]
    }
   ],
   "source": [
    "# 순환 신경망 모델 학습하기\n",
    "history = model.fit(X_train, Y_train, validation_data=(X_test, Y_test), epochs=5, batch_size=200, verbose=1)"
   ]
  },
  {
   "cell_type": "code",
   "execution_count": 22,
   "metadata": {},
   "outputs": [
    {
     "data": {
      "image/png": "[encoded data removed]",
      "text/plain": [
       "<Figure size 432x288 with 1 Axes>"
      ]
     },
     "metadata": {
      "needs_background": "light"
     },
     "output_type": "display_data"
    }
   ],
   "source": [
    "# 순환 신경망 학습 결과 그래프로 확인하기\n",
    "import matplotlib.pyplot as plt\n",
    "import numpy as np\n",
    "# 검증 데이터 셋의 오차\n",
    "y_vloss = history.history['val_loss']\n",
    "# 학습 데이터 셋의 오차\n",
    "y_loss = history.history['loss']\n",
    "# 검증 데이터 셋의 정확도\n",
    "y_vACC = history.history['val_accuracy']\n",
    "# 학습 데이터 셋의 정확도\n",
    "y_ACC = history.history['accuracy']\n",
    "# 정확도, 오차를 그래프로 나타내기\n",
    "x_len = np.arange(len(y_loss))\n",
    "plt.plot(x_len, y_vloss, marker='.', c=\"red\", label='Testset_loss')\n",
    "plt.plot(x_len, y_loss, marker='.', c=\"blue\", label='Trainset_loss')\n",
    "plt.plot(x_len, y_vACC, marker='.', c=\"yellow\", label='Testset_accuracy')\n",
    "plt.plot(x_len, y_ACC, marker='.', c=\"green\", label='Trainset_accuracy')\n",
    "# 그래프에 그리드 넣고 레이블 표시\n",
    "plt.legend(loc='upper right')\n",
    "plt.grid()\n",
    "plt.xlabel('epoch')\n",
    "plt.ylabel('loss / accuracy')\n",
    "plt.show()"
   ]
  },
  {
   "cell_type": "code",
   "execution_count": 23,
   "metadata": {},
   "outputs": [
    {
     "name": "stdout",
     "output_type": "stream",
     "text": [
      "313/313 [==============================] - 2s 7ms/step - loss: 0.2029 - accuracy: 0.9428\n",
      "\n",
      " 테스트 데이터셋의 정확도 : 0.9428\n"
     ]
    }
   ],
   "source": [
    "# 테스트 정확도\n",
    "print(\"\\n 테스트 데이터셋의 정확도 : %.4f\" %(model.evaluate(X_test, Y_test)[1]))"
   ]
  }
 ],
 "metadata": {
  "kernelspec": {
   "display_name": "Python 3",
   "language": "python",
   "name": "python3"
  },
  "language_info": {
   "codemirror_mode": {
    "name": "ipython",
    "version": 3
   },
   "file_extension": ".py",
   "mimetype": "text/x-python",
   "name": "python",
   "nbconvert_exporter": "python",
   "pygments_lexer": "ipython3",
   "version": "3.6.12"
  }
 },
 "nbformat": 4,
 "nbformat_minor": 4
}
