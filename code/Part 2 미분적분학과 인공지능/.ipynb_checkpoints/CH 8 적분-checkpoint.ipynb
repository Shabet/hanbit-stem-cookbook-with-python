{
 "cells": [
  {
   "cell_type": "markdown",
   "metadata": {},
   "source": [
    "# 8.1 부정적분"
   ]
  },
  {
   "cell_type": "markdown",
   "metadata": {},
   "source": [
    "예제 8-1"
   ]
  },
  {
   "cell_type": "code",
   "execution_count": 1,
   "metadata": {},
   "outputs": [
    {
     "name": "stdout",
     "output_type": "stream",
     "text": [
      "(a) 역도함수 F(x) =  -cos(2*x)/2\n",
      "(b) 역도함수 F(x) =  1/cos(x)\n"
     ]
    }
   ],
   "source": [
    "import sympy as sym\n",
    "\n",
    "# 문제 (a)\n",
    "# sym.sin() : 사인함수\n",
    "# sym.integrate(f,x) : f를 x로 적분\n",
    "x = sym.Symbol('x')\n",
    "f = sym.sin(2*x)\n",
    "int_f = sym.integrate(f,x)\n",
    "print(\"(a) 역도함수 F(x) = \", int_f)\n",
    "\n",
    "# 문제 (b)\n",
    "x = sym.Symbol('x')\n",
    "f = sym.sec(x)*sym.tan(x)\n",
    "int_f = sym.integrate(f,x)\n",
    "print(\"(b) 역도함수 F(x) = \", int_f)"
   ]
  },
  {
   "cell_type": "markdown",
   "metadata": {},
   "source": [
    "예제 8-2"
   ]
  },
  {
   "cell_type": "code",
   "execution_count": 2,
   "metadata": {},
   "outputs": [
    {
     "name": "stdout",
     "output_type": "stream",
     "text": [
      "(a) 역도함수 F(x) =  x**4/4 + log(x)\n",
      "(b) 역도함수 F(x) =  0.571428571428571*x**1.75 + exp(2*x)/2\n",
      "(c) 역도함수 F(t) =  t**3/3 + 3*t**2/2 + 2*t\n",
      "(d) 역도함수 F(x) =  atan(2*x)/2\n",
      "(e) 역도함수 F(x) =  tan(x) + sec(x)\n"
     ]
    }
   ],
   "source": [
    "import sympy as sym\n",
    "\n",
    "# 문제 (a)\n",
    "x = sym.Symbol('x')\n",
    "f = x**3 + x**(-1)\n",
    "int_f = sym.integrate(f,x)\n",
    "print(\"(a) 역도함수 F(x) = \", int_f)\n",
    "\n",
    "# 문제 (b)\n",
    "# sym.exp(x) : 지수함수 ex\n",
    "x = sym.Symbol('x')\n",
    "f = x**(3/4)+sym.exp(2*x)\n",
    "int_f = sym.integrate(f,x)\n",
    "print(\"(b) 역도함수 F(x) = \", int_f)\n",
    "\n",
    "# 문제 (c)\n",
    "t = sym.Symbol('t')\n",
    "f = (t+1)*(t+2)\n",
    "int_f = sym.integrate(f,t)\n",
    "print(\"(c) 역도함수 F(t) = \", int_f)\n",
    "\n",
    "# 문제 (d)\n",
    "x = sym.Symbol('x')\n",
    "f = 1/(4*x**2+1)\n",
    "int_f = sym.integrate(f,x)\n",
    "print(\"(d) 역도함수 F(x) = \", int_f)\n",
    "\n",
    "# 문제 (e)\n",
    "# sym.tan() : 탄젠트함수\n",
    "# sym.sec() : 시컨트함수\n",
    "x = sym.Symbol('x')\n",
    "f = sym.sec(x)*(sym.tan(x)+sym.sec(x))\n",
    "int_f = sym.integrate(f,x)\n",
    "print(\"(e) 역도함수 F(x) = \", int_f)"
   ]
  },
  {
   "cell_type": "markdown",
   "metadata": {},
   "source": [
    "# 8.2 치환적분과 부분적분"
   ]
  },
  {
   "cell_type": "markdown",
   "metadata": {},
   "source": [
    "예제 8-3"
   ]
  },
  {
   "cell_type": "code",
   "execution_count": 3,
   "metadata": {},
   "outputs": [
    {
     "name": "stdout",
     "output_type": "stream",
     "text": [
      "(a) 역도함수 F(x) =  exp(2024*x + 4)/2024\n",
      "(b) 역도함수 F(x) =  x**18/18 + 2*x**15/3 + 10*x**12/3 + 80*x**9/9 + 40*x**6/3 + 32*x**3/3\n",
      "(c) 역도함수 F(t) =  -cos(t**2 + 1)\n",
      "(d) 역도함수 F(x) =  sin(x)**6/6\n",
      "(e) 역도함수 F(x) =  log(100*x)**101/101\n",
      "(f) 역도함수 F(x) =  log(tan(x + 1)**2 + 1)/2\n"
     ]
    }
   ],
   "source": [
    "import sympy as sym\n",
    "\n",
    "# 문제 (a)\n",
    "x = sym.Symbol('x')\n",
    "f = sym.exp(2024*x+4)\n",
    "int_f = sym.integrate(f,x)\n",
    "print(\"(a) 역도함수 F(x) = \", int_f)\n",
    "\n",
    "# 문제 (b)\n",
    "x = sym.Symbol('x')\n",
    "f = (x**3+2)**5*(x**2)\n",
    "int_f = sym.integrate(f,x)\n",
    "print(\"(b) 역도함수 F(x) = \", int_f)\n",
    "\n",
    "# 문제 (c)\n",
    "t = sym.Symbol('t')\n",
    "f = sym.sin(t**2+1)*2*t\n",
    "int_f = sym.integrate(f,t)\n",
    "print(\"(c) 역도함수 F(t) = \", int_f)\n",
    "\n",
    "# 문제 (d)\n",
    "x = sym.Symbol('x')\n",
    "f = sym.sin(x)**5*sym.cos(x)\n",
    "int_f = sym.integrate(f,x)\n",
    "print(\"(d) 역도함수 F(x) = \", int_f)\n",
    "\n",
    "# 문제 (e)\n",
    "# sym.log() : 자연로그함수\n",
    "x = sym.Symbol('x')\n",
    "f = (sym.log(100*x)**100)/x\n",
    "int_f = sym.integrate(f,x)\n",
    "print(\"(e) 역도함수 F(x) = \", int_f)\n",
    "\n",
    "# 문제 (f)\n",
    "x = sym.Symbol('x')\n",
    "f = sym.tan(x+1)\n",
    "int_f = sym.integrate(f,x)\n",
    "print(\"(f) 역도함수 F(x) = \", int_f)"
   ]
  },
  {
   "cell_type": "markdown",
   "metadata": {},
   "source": [
    "예제 8-4"
   ]
  },
  {
   "cell_type": "code",
   "execution_count": 4,
   "metadata": {},
   "outputs": [
    {
     "name": "stdout",
     "output_type": "stream",
     "text": [
      "(a) 역도함수 F(x) =  x*log(x) - x\n",
      "(b) 역도함수 F(x) =  -x**2*cos(x) + 2*x*sin(x) + 2*cos(x)\n",
      "(c) 역도함수 F(t) =  (2*x - 1)*exp(2*x)/4\n",
      "(d) 역도함수 F(x) =  sin(x)**2/2\n",
      "(e) 역도함수 F(x) =  -log(x)/(2*x**2) - 1/(4*x**2)\n",
      "(f) 역도함수 F(x) =  x*log(2*x)**2 - 2*x*log(2*x) + 2*x\n"
     ]
    }
   ],
   "source": [
    "import sympy as sym\n",
    "\n",
    "# 문제 (a)\n",
    "x = sym.Symbol('x')\n",
    "f = sym.log(x)\n",
    "int_f = sym.integrate(f,x)\n",
    "print(\"(a) 역도함수 F(x) = \", int_f)\n",
    "\n",
    "# 문제 (b)\n",
    "x = sym.Symbol('x')\n",
    "f = (x**2)*sym.sin(x)\n",
    "int_f = sym.integrate(f,x)\n",
    "print(\"(b) 역도함수 F(x) = \", int_f)\n",
    "\n",
    "# 문제 (c)\n",
    "x = sym.Symbol('x')\n",
    "f = x*sym.exp(2*x)\n",
    "int_f = sym.integrate(f,x)\n",
    "print(\"(c) 역도함수 F(t) = \", int_f)\n",
    "\n",
    "# 문제 (d)\n",
    "x = sym.Symbol('x')\n",
    "f = sym.sin(x)*sym.cos(x)\n",
    "int_f = sym.integrate(f,x)\n",
    "print(\"(d) 역도함수 F(x) = \", int_f)\n",
    "\n",
    "# 문제 (e)\n",
    "x = sym.Symbol('x')\n",
    "f = (sym.log(x))/(x**3)\n",
    "int_f = sym.integrate(f,x)\n",
    "print(\"(e) 역도함수 F(x) = \", int_f)\n",
    "\n",
    "# 문제 (f)\n",
    "x = sym.Symbol('x')\n",
    "f = sym.log(2*x)**2\n",
    "int_f = sym.integrate(f,x)\n",
    "print(\"(f) 역도함수 F(x) = \", int_f)"
   ]
  },
  {
   "cell_type": "markdown",
   "metadata": {},
   "source": [
    "예제 8-5"
   ]
  },
  {
   "cell_type": "code",
   "execution_count": 5,
   "metadata": {},
   "outputs": [
    {
     "name": "stdout",
     "output_type": "stream",
     "text": [
      "(a) 역도함수 F(x) =  -2*sqrt(x + 1)*cos(sqrt(x + 1)) + 2*sin(sqrt(x + 1))\n",
      "(b) 역도함수 F(x) =  x**6*sqrt(x**2 + 1)/7 + x**4*sqrt(x**2 + 1)/35 - 4*x**2*sqrt(x**2 + 1)/105 + 8*sqrt(x**2 + 1)/105\n",
      "(c) 역도함수 F(t) =  2*sqrt(x)*exp(sqrt(x)) - 2*exp(sqrt(x))\n"
     ]
    }
   ],
   "source": [
    "import sympy as sym\n",
    "\n",
    "# 문제 (a)\n",
    "# sym.sqrt() : 제곱근 함수\n",
    "x = sym.Symbol('x')\n",
    "f = sym.sin(sym.sqrt(x+1))\n",
    "int_f = sym.integrate(f,x)\n",
    "print(\"(a) 역도함수 F(x) = \", int_f)\n",
    "\n",
    "# 문제 (b)\n",
    "x = sym.Symbol('x')\n",
    "f = (x**5)*sym.sqrt(x**2+1)\n",
    "int_f = sym.integrate(f,x)\n",
    "print(\"(b) 역도함수 F(x) = \", int_f)\n",
    "\n",
    "# 문제 (c)\n",
    "x = sym.Symbol('x')\n",
    "f = sym.exp(sym.sqrt(x))\n",
    "int_f = sym.integrate(f,x)\n",
    "print(\"(c) 역도함수 F(t) = \", int_f)"
   ]
  },
  {
   "cell_type": "markdown",
   "metadata": {},
   "source": [
    "# 8.3 정적분"
   ]
  },
  {
   "cell_type": "markdown",
   "metadata": {},
   "source": [
    "예제 8-6"
   ]
  },
  {
   "cell_type": "code",
   "execution_count": 6,
   "metadata": {},
   "outputs": [
    {
     "name": "stdout",
     "output_type": "stream",
     "text": [
      "문제 (a)\n"
     ]
    },
    {
     "data": {
      "image/png": "[encoded data removed]",
      "text/plain": [
       "<Figure size 432x288 with 1 Axes>"
      ]
     },
     "metadata": {
      "needs_background": "light"
     },
     "output_type": "display_data"
    }
   ],
   "source": [
    "import matplotlib.pyplot as plt\n",
    "import numpy as np\n",
    "\n",
    "# 문제 (a)\n",
    "print(\"문제 (a)\")\n",
    "\n",
    "# 값 범위\n",
    "a = 0\n",
    "b = 3\n",
    "x = np.arange(a, b+1, 0.1)\n",
    "\n",
    "# 축 레이블 넣기\n",
    "plt.xlabel('x axis')\n",
    "plt.ylabel('y axis')\n",
    "\n",
    "# 그리드\n",
    "plt.grid(color = \"black\", alpha=0.5, linestyle='--')\n",
    "\n",
    "# 그리고자 하는 식\n",
    "plt.plot(x, x, label='y = x')\n",
    "\n",
    "# 범례\n",
    "plt.legend()\n",
    "plt.show()"
   ]
  },
  {
   "cell_type": "code",
   "execution_count": 7,
   "metadata": {},
   "outputs": [
    {
     "name": "stdout",
     "output_type": "stream",
     "text": [
      "문제 (b)\n"
     ]
    },
    {
     "name": "stderr",
     "output_type": "stream",
     "text": [
      "c:\\users\\byung_sun\\anaconda3\\envs\\tf_gpu_36\\lib\\site-packages\\ipykernel_launcher.py:17: RuntimeWarning: invalid value encountered in sqrt\n"
     ]
    },
    {
     "data": {
      "image/png": "[encoded data removed]",
      "text/plain": [
       "<Figure size 432x288 with 1 Axes>"
      ]
     },
     "metadata": {
      "needs_background": "light"
     },
     "output_type": "display_data"
    }
   ],
   "source": [
    "# 문제 (b)\n",
    "print(\"문제 (b)\")\n",
    "\n",
    "# 값 범위\n",
    "a = 0\n",
    "b = 2\n",
    "x = np.arange(a, b+1, 0.01)\n",
    "\n",
    "# 축 레이블 넣기\n",
    "plt.xlabel('x axis')\n",
    "plt.ylabel('y axis')\n",
    "\n",
    "# 그리드\n",
    "plt.grid(color = \"black\", alpha=0.5, linestyle='--')\n",
    "\n",
    "# 그리고자 하는 식\n",
    "plt.plot(x, np.sqrt(4-x**2), label='$y = (4-x^2)^{1/2}$')\n",
    "\n",
    "# 범례\n",
    "plt.legend()\n",
    "plt.show()"
   ]
  },
  {
   "cell_type": "code",
   "execution_count": 8,
   "metadata": {},
   "outputs": [
    {
     "name": "stdout",
     "output_type": "stream",
     "text": [
      "문제 (c)\n"
     ]
    },
    {
     "data": {
      "image/png": "[encoded data removed]",
      "text/plain": [
       "<Figure size 432x288 with 1 Axes>"
      ]
     },
     "metadata": {
      "needs_background": "light"
     },
     "output_type": "display_data"
    }
   ],
   "source": [
    "# 문제 (c)\n",
    "print(\"문제 (c)\")\n",
    "\n",
    "# 값 범위\n",
    "a = -1\n",
    "b = 1\n",
    "x = np.arange(a, b+1, 0.01)\n",
    "\n",
    "# 축 레이블 넣기\n",
    "plt.xlabel('x axis')\n",
    "plt.ylabel('y axis')\n",
    "plt.ylim(0,110)\n",
    "\n",
    "# 그리드\n",
    "plt.grid(color = \"black\", alpha=0.5, linestyle='--')\n",
    "\n",
    "# 그리고자 하는 식\n",
    "plt.plot(x, 100*np.ones(len(x)), label='y = 100')\n",
    "\n",
    "# 범례\n",
    "plt.legend()\n",
    "plt.show()"
   ]
  },
  {
   "cell_type": "code",
   "execution_count": 9,
   "metadata": {},
   "outputs": [
    {
     "name": "stdout",
     "output_type": "stream",
     "text": [
      "문제 (d)\n"
     ]
    },
    {
     "data": {
      "image/png": "[encoded data removed]",
      "text/plain": [
       "<Figure size 432x288 with 1 Axes>"
      ]
     },
     "metadata": {
      "needs_background": "light"
     },
     "output_type": "display_data"
    }
   ],
   "source": [
    "# 문제 (d)\n",
    "print(\"문제 (d)\")\n",
    "\n",
    "# 값 범위\n",
    "a = -1\n",
    "b = 1\n",
    "x = np.arange(a, b+0.01, 0.01)\n",
    "\n",
    "# 축 레이블 넣기\n",
    "plt.xlabel('x axis')\n",
    "plt.ylabel('y axis')\n",
    "\n",
    "# 그리드\n",
    "plt.grid(color = \"black\", alpha=0.5, linestyle='--')\n",
    "\n",
    "# 그리고자 하는 식\n",
    "plt.plot(x, x**11, label='y = $x^{11}$')\n",
    "\n",
    "# 범례\n",
    "plt.legend()\n",
    "plt.show()"
   ]
  },
  {
   "cell_type": "code",
   "execution_count": 10,
   "metadata": {},
   "outputs": [
    {
     "name": "stdout",
     "output_type": "stream",
     "text": [
      "문제 (a)\n",
      "적분값 =  4.5\n",
      "\n",
      "\n",
      "문제 (b)\n",
      "적분값 =  3.141592653589793\n",
      "\n",
      "\n",
      "문제 (c)\n",
      "적분값 =  200\n",
      "\n",
      "\n",
      "문제 (d)\n",
      "원점에 대해 면적이 대칭인가 ? True\n",
      "적분값 =  0.0\n"
     ]
    }
   ],
   "source": [
    "import numpy as np\n",
    "\n",
    "# 문제 (a)\n",
    "print(\"문제 (a)\")\n",
    "\n",
    "# 값 범위\n",
    "a = 0\n",
    "b = 3\n",
    "\n",
    "# 적분값 구하기\n",
    "Area = 1/2*(b-a)*(b-a)\n",
    "print(\"적분값 = \", Area)\n",
    "print(\"\\n\")\n",
    "\n",
    "# 문제 (b)\n",
    "print(\"문제 (b)\")\n",
    "\n",
    "# 값 범위\n",
    "a = 0\n",
    "b = 2\n",
    "\n",
    "# 적분값 구하기\n",
    "Area = 1/4*np.pi*(b-a)**2\n",
    "print(\"적분값 = \", Area)\n",
    "print(\"\\n\")\n",
    "\n",
    "# 문제 (c)\n",
    "print(\"문제 (c)\")\n",
    "\n",
    "# 값 범위\n",
    "a = -1\n",
    "b = 1\n",
    "\n",
    "# 적분값 구하기\n",
    "Area = 100*(b-a)\n",
    "print(\"적분값 = \", Area)\n",
    "print(\"\\n\")\n",
    "\n",
    "# 문제 (d)\n",
    "print(\"문제 (d)\")\n",
    "\n",
    "# 값 범위\n",
    "a = -1\n",
    "b = 1\n",
    "\n",
    "# 적분값 구하기\n",
    "left_Area = 1/12*(b**12-(a+b/2)**12)\n",
    "right_Area = 1/12*((a+b/2)**12-a**12)\n",
    "print(\"원점에 대해 면적이 대칭인가 ?\", -left_Area == right_Area )\n",
    "print(\"적분값 = \", left_Area+right_Area)"
   ]
  },
  {
   "cell_type": "markdown",
   "metadata": {},
   "source": [
    "예제 8-7"
   ]
  },
  {
   "cell_type": "code",
   "execution_count": 11,
   "metadata": {},
   "outputs": [
    {
     "name": "stdout",
     "output_type": "stream",
     "text": [
      "그래프를 그려서 확인\n"
     ]
    },
    {
     "data": {
      "image/png": "[encoded data removed]",
      "text/plain": [
       "<Figure size 432x288 with 1 Axes>"
      ]
     },
     "metadata": {
      "needs_background": "light"
     },
     "output_type": "display_data"
    },
    {
     "name": "stdout",
     "output_type": "stream",
     "text": [
      "좌측 적분값 =  2\n",
      "우측 적분값 =  6\n"
     ]
    }
   ],
   "source": [
    "import matplotlib.pyplot as plt\n",
    "import numpy as np\n",
    "\n",
    "print(\"그래프를 그려서 확인\")\n",
    "# 값 범위\n",
    "a = 0\n",
    "b = 2\n",
    "x = np.arange(a, b+1.1, 0.1)\n",
    "\n",
    "# 축 레이블 넣기\n",
    "plt.xlabel('x axis')\n",
    "plt.ylabel('y axis')\n",
    "\n",
    "# 그리드\n",
    "plt.grid(color = \"black\", alpha=0.5, linestyle='--')\n",
    "\n",
    "# 그리고자 하는 식\n",
    "plt.plot(x, np.sqrt(1+x**3), label='y = $(1+x^{3})^{1/2}$')\n",
    "\n",
    "# 범례\n",
    "plt.legend()\n",
    "plt.show()\n",
    "\n",
    "# 적분값 구하기\n",
    "Area_1 = (b-a)*1\n",
    "print(\"좌측 적분값 = \", Area_1)\n",
    "Area_2 = (b-a)*3\n",
    "print(\"우측 적분값 = \", Area_2)"
   ]
  },
  {
   "cell_type": "markdown",
   "metadata": {},
   "source": [
    "예제 8-8"
   ]
  },
  {
   "cell_type": "code",
   "execution_count": 12,
   "metadata": {},
   "outputs": [
    {
     "name": "stdout",
     "output_type": "stream",
     "text": [
      "(a) 정적분값 =  0\n",
      "(b) 정적분값 =  1\n",
      "(c) 정적분값 =  -2*E + 2*exp(3)\n",
      "(d) 정적분값 =  -sqrt(2)/2 + log(sqrt(2)/2) + 1\n",
      "(e) 정적분값 =  1\n",
      "(f) 정적분값 =  1/2\n"
     ]
    }
   ],
   "source": [
    "import sympy as sym\n",
    "\n",
    "# 문제 (a)\n",
    "x = sym.Symbol('x')\n",
    "f = 10*x\n",
    "a = -1\n",
    "b = 1\n",
    "int_f = sym.integrate(f, (x, a, b))\n",
    "print(\"(a) 정적분값 = \", int_f)\n",
    "\n",
    "# 문제 (b)\n",
    "x = sym.Symbol('x')\n",
    "f = x**2+sym.sqrt(x)\n",
    "a = 0\n",
    "b = 1\n",
    "int_f = sym.integrate(f, (x, a, b))\n",
    "print(\"(b) 정적분값 = \", int_f)\n",
    "\n",
    "# 문제 (c)\n",
    "x = sym.Symbol('x')\n",
    "f = 2*sym.exp(x)\n",
    "a = 1\n",
    "b = 3\n",
    "int_f = sym.integrate(f, (x, a, b))\n",
    "print(\"(c) 정적분값 = \", int_f)\n",
    "\n",
    "# 문제 (d)\n",
    "theta = sym.Symbol('theta')\n",
    "f = sym.sin(theta)-sym.tan(theta)\n",
    "a = 0\n",
    "b = sym.pi/4\n",
    "int_f = sym.integrate(f, (theta, a, b))\n",
    "print(\"(d) 정적분값 = \", int_f)\n",
    "\n",
    "# 문제 (e)\n",
    "x = sym.Symbol('x')\n",
    "f = sym.log(x)\n",
    "a = 1\n",
    "b = sym.exp(1)\n",
    "int_f = sym.integrate(f, (x, a, b))\n",
    "print(\"(e) 정적분값 = \", int_f)\n",
    "\n",
    "# 문제 (f)\n",
    "x = sym.Symbol('x')\n",
    "f = sym.sec(2*x)**2\n",
    "a = 0\n",
    "b = sym.pi/8\n",
    "int_f = sym.integrate(f, (x, a, b))\n",
    "print(\"(f) 정적분값 = \", int_f)"
   ]
  },
  {
   "cell_type": "markdown",
   "metadata": {},
   "source": [
    "예제 8-9"
   ]
  },
  {
   "cell_type": "code",
   "execution_count": 13,
   "metadata": {},
   "outputs": [
    {
     "name": "stdout",
     "output_type": "stream",
     "text": [
      "그래프를 그려서 확인\n"
     ]
    },
    {
     "data": {
      "image/png": "[encoded data removed]",
      "text/plain": [
       "<Figure size 432x288 with 1 Axes>"
      ]
     },
     "metadata": {
      "needs_background": "light"
     },
     "output_type": "display_data"
    },
    {
     "name": "stdout",
     "output_type": "stream",
     "text": [
      "적분값 =  pi**4/64\n"
     ]
    }
   ],
   "source": [
    "import matplotlib.pyplot as plt\n",
    "import numpy as np\n",
    "import sympy as sym\n",
    "\n",
    "print(\"그래프를 그려서 확인\")\n",
    "\n",
    "# 값 범위\n",
    "a = 0\n",
    "b = np.pi/2\n",
    "x = np.linspace(a, b, 200)\n",
    "\n",
    "# 축 레이블 넣기\n",
    "plt.xlabel('x axis')\n",
    "plt.ylabel('y axis')\n",
    "\n",
    "# 그리드\n",
    "plt.grid(color = \"black\", alpha=0.5, linestyle='--')\n",
    "\n",
    "# 그리고자 하는 식\n",
    "plt.plot(x, x-np.sin(x), label='y = $x-sin x$')\n",
    "\n",
    "# 범례\n",
    "plt.legend()\n",
    "plt.show()\n",
    "\n",
    "# 적분값 구하기\n",
    "x = sym.Symbol('x')\n",
    "a = 0\n",
    "b = sym.pi/2\n",
    "f = x**3\n",
    "int_f = sym.integrate(f, (x, a, b))\n",
    "print(\"적분값 = \", int_f)"
   ]
  },
  {
   "cell_type": "markdown",
   "metadata": {},
   "source": [
    "예제 8-10"
   ]
  },
  {
   "cell_type": "code",
   "execution_count": 14,
   "metadata": {},
   "outputs": [
    {
     "name": "stdout",
     "output_type": "stream",
     "text": [
      "그래프를 그려서 확인\n"
     ]
    },
    {
     "data": {
      "image/png": "[encoded data removed]",
      "text/plain": [
       "<Figure size 432x288 with 1 Axes>"
      ]
     },
     "metadata": {
      "needs_background": "light"
     },
     "output_type": "display_data"
    }
   ],
   "source": [
    "import matplotlib.pyplot as plt\n",
    "import numpy as np\n",
    "print(\"그래프를 그려서 확인\")\n",
    "\n",
    "# 값 범위\n",
    "a = 1\n",
    "b = 4\n",
    "x = np.linspace(a, b, 200)\n",
    "\n",
    "# 축 레이블 넣기\n",
    "plt.xlabel('x axis')\n",
    "plt.ylabel('y axis')\n",
    "\n",
    "# 그리드\n",
    "plt.grid(color = \"black\", alpha=0.5, linestyle='--')\n",
    "\n",
    "# 그리고자 하는 식\n",
    "plt.plot(x, x, label='y = $x$')\n",
    "\n",
    "# 범례\n",
    "plt.legend()\n",
    "plt.show()"
   ]
  },
  {
   "cell_type": "markdown",
   "metadata": {},
   "source": [
    "예제 8-11"
   ]
  },
  {
   "cell_type": "code",
   "execution_count": 15,
   "metadata": {
    "scrolled": true
   },
   "outputs": [
    {
     "name": "stdout",
     "output_type": "stream",
     "text": [
      "(a) 정적분값 =  -1/3 + 10*sqrt(10)/3\n",
      "(b) 정적분값 =  -1 + exp(2)\n",
      "(c) 정적분값 =  log(2)\n"
     ]
    }
   ],
   "source": [
    "import sympy as sym\n",
    "\n",
    "# 문제 (a)\n",
    "x = sym.Symbol('x')\n",
    "f = x*sym.sqrt(1+x**2)\n",
    "a = 0\n",
    "b = 3\n",
    "int_f = sym.integrate(f, (x, a, b))\n",
    "print(\"(a) 정적분값 = \", int_f)\n",
    "\n",
    "# 문제 (b)\n",
    "x = sym.Symbol('x')\n",
    "f = (2*x+1)*sym.exp(x**2+x)\n",
    "a = 0\n",
    "b = 1\n",
    "int_f = sym.integrate(f, (x, a, b))\n",
    "print(\"(b) 정적분값 = \", int_f)\n",
    "\n",
    "# 문제 (c)\n",
    "x = sym.Symbol('x')\n",
    "f = 1/(x*sym.log(x))\n",
    "a = sym.exp(1)\n",
    "b = sym.exp(2)\n",
    "int_f = sym.integrate(f, (x, a, b))\n",
    "print(\"(c) 정적분값 = \", int_f)"
   ]
  },
  {
   "cell_type": "markdown",
   "metadata": {},
   "source": [
    "# 8.4 적분의 응용 "
   ]
  },
  {
   "cell_type": "markdown",
   "metadata": {},
   "source": [
    "예제 8-12"
   ]
  },
  {
   "cell_type": "code",
   "execution_count": 16,
   "metadata": {},
   "outputs": [
    {
     "name": "stdout",
     "output_type": "stream",
     "text": [
      "(a) 곡선의 길이 =  2*sqrt(2)\n",
      "(b) 곡선의 길이 =  3.52552395244872\n"
     ]
    }
   ],
   "source": [
    "import sympy as sym\n",
    "\n",
    "# 문제 (a)\n",
    "# sym.Symbol('x') : x 하나만 미지수로 선언\n",
    "x = sym.Symbol('x')\n",
    "f = x\n",
    "a = 0\n",
    "b = 2\n",
    "diff_f = sym.diff(f,x)\n",
    "arc_f = sym.sqrt(1+diff_f**2)\n",
    "int_f = sym.integrate(arc_f, (x, a, b))\n",
    "print(\"(a) 곡선의 길이 = \", int_f)\n",
    "\n",
    "# 문제 (b)\n",
    "x = sym.Symbol('x')\n",
    "f = x**(3/2)\n",
    "a = 0\n",
    "b = 2\n",
    "diff_f = sym.diff(f,x)\n",
    "arc_f = sym.sqrt(1+diff_f**2)\n",
    "int_f = sym.integrate(arc_f, (x, a, b))\n",
    "print(\"(b) 곡선의 길이 = \", int_f)"
   ]
  },
  {
   "cell_type": "markdown",
   "metadata": {},
   "source": [
    "예제 8-13"
   ]
  },
  {
   "cell_type": "code",
   "execution_count": 17,
   "metadata": {},
   "outputs": [
    {
     "name": "stdout",
     "output_type": "stream",
     "text": [
      "(a) 회전체의 표면적 =  16*sqrt(2)*pi\n",
      "(b) 회전체의 표면적 =  18*pi\n",
      "(c) 회전체의 표면적 =  -pi/6 + 17*sqrt(17)*pi/6\n",
      "(d) 회전체의 표면적 =  -pi/27 + 10*sqrt(10)*pi/27\n"
     ]
    }
   ],
   "source": [
    "import sympy as sym\n",
    "\n",
    "# 문제 (a)\n",
    "# sym.pi : π를 의미\n",
    "x = sym.Symbol('x')\n",
    "f = x\n",
    "a = 0\n",
    "b = 4\n",
    "diff_f = sym.diff(f,x)\n",
    "area_f = 2*sym.pi*f*sym.sqrt(1+diff_f**2)\n",
    "int_f = sym.integrate(area_f, (x, a, b))\n",
    "print(\"(a) 회전체의 표면적 = \", int_f)\n",
    "\n",
    "# 문제 (b)\n",
    "x = sym.Symbol('x')\n",
    "f = sym.sqrt(9-x**2)\n",
    "a = 0\n",
    "b = 3\n",
    "diff_f = sym.diff(f,x)\n",
    "area_f = 2*sym.pi*f*sym.sqrt(1+diff_f**2)\n",
    "int_f = sym.integrate(area_f, (x, a, b))\n",
    "print(\"(b) 회전체의 표면적 = \", int_f)\n",
    "\n",
    "# 문제 (c)\n",
    "y = sym.Symbol('y')\n",
    "g = sym.sqrt(y)\n",
    "a = 0\n",
    "b = 4\n",
    "diff_g = sym.diff(g,y)\n",
    "area_g = 2*sym.pi*g*sym.sqrt(1+diff_g**2)\n",
    "int_g = sym.integrate(area_g, (y, a, b))\n",
    "print(\"(c) 회전체의 표면적 = \", int_g)\n",
    "\n",
    "# 문제 (d)\n",
    "y = sym.Symbol('y')\n",
    "g = y**3\n",
    "a = 0\n",
    "b = 1\n",
    "diff_g = sym.diff(g,y)\n",
    "area_g = 2*sym.pi*g*sym.sqrt(1+diff_g**2)\n",
    "int_g = sym.integrate(area_g, (y, a, b))\n",
    "print(\"(d) 회전체의 표면적 = \", int_g)"
   ]
  },
  {
   "cell_type": "markdown",
   "metadata": {},
   "source": [
    "# CH 8 프로그래밍 실습"
   ]
  },
  {
   "cell_type": "markdown",
   "metadata": {},
   "source": [
    "8.1 중간값 방법"
   ]
  },
  {
   "cell_type": "code",
   "execution_count": 18,
   "metadata": {},
   "outputs": [
    {
     "name": "stdout",
     "output_type": "stream",
     "text": [
      "문제 (a)\n",
      "중간점 방법을 활용한 적분의 근삿값 =  0.7428382138129188\n",
      "정적분값 =  3/4\n",
      "오차 =  0.00716178618708119\n",
      "\n",
      "\n",
      "문제 (b)\n",
      "중간점 방법을 활용한 적분의 근삿값 =  1.9800000000000004\n",
      "정적분값 =  2\n",
      "오차 =  0.0199999999999996\n"
     ]
    }
   ],
   "source": [
    "import sympy as sym\n",
    "\n",
    "# 중간점 방법을 활용한 적분의 근삿값 계산\n",
    "def midpoint_integral(func_f, init_val, end_val, partition_num):\n",
    "    import sympy as sym\n",
    "    \n",
    "    func_f_lamd = sym.lambdify(x, func_f, \"numpy\")\n",
    "\n",
    "    width = (b-a)/partition_num\n",
    "    sum_midpoint_val = 0\n",
    "    for i in range(partition_num):\n",
    "        left_x = init_val + (i*width)\n",
    "        right_x = init_val + (i+1)*width\n",
    "        bar_x = 0.5*(left_x+right_x)\n",
    "        sum_midpoint_val = sum_midpoint_val + func_f_lamd(bar_x)\n",
    "    area = width *sum_midpoint_val\n",
    "    return area\n",
    "\n",
    "# 문제 (a)\n",
    "print(\"문제 (a)\")\n",
    "x = sym.Symbol('x')\n",
    "f = 1/x**2\n",
    "a = 1\n",
    "b = 4\n",
    "num = 10\n",
    "midpoint_int = midpoint_integral(f, a, b, num)\n",
    "print(\"중간점 방법을 활용한 적분의 근삿값 = \", midpoint_int)\n",
    "x = sym.Symbol('x')\n",
    "int_f = sym.integrate(f, (x, a, b))\n",
    "print(\"정적분값 = \", int_f)\n",
    "print(\"오차 = \", int_f - midpoint_int)\n",
    "print(\"\\n\")\n",
    "\n",
    "# 문제 (b)\n",
    "print(\"문제 (b)\")\n",
    "x = sym.Symbol('x')\n",
    "f = x**3-x\n",
    "a = 0\n",
    "b = 2\n",
    "num = 10\n",
    "midpoint_int = midpoint_integral(f, a, b, num)\n",
    "print(\"중간점 방법을 활용한 적분의 근삿값 = \", midpoint_int)\n",
    "x = sym.Symbol('x')\n",
    "int_f = sym.integrate(f, (x, a, b))\n",
    "print(\"정적분값 = \", int_f)\n",
    "print(\"오차 = \", int_f - midpoint_int)"
   ]
  },
  {
   "cell_type": "markdown",
   "metadata": {},
   "source": [
    "8.2 사다리꼴 방법"
   ]
  },
  {
   "cell_type": "code",
   "execution_count": 19,
   "metadata": {},
   "outputs": [
    {
     "name": "stdout",
     "output_type": "stream",
     "text": [
      "문제 (a)\n",
      "사다리꼴 방법을 활용한 적분값의 근삿값 =  77.34964598084132\n",
      "정적분값 =  303/4\n",
      "오차 =  -1.59964598084132\n",
      "\n",
      "\n",
      "문제 (b)\n",
      "사다리꼴 방법을 활용한 적분의 근삿값 =  3.2683834138362804\n",
      "정적분값 =  3.24084453516903\n",
      "오차 =  -0.0275388786672481\n"
     ]
    }
   ],
   "source": [
    "import sympy as sym\n",
    "\n",
    "# 사다리꼴 방법을 활용한 적분의 근삿값 계산\n",
    "def trapzoid_integral(func_f, init_val, end_val, partition_num):\n",
    "    import sympy as sym\n",
    "    func_f_lamd = sym.lambdify(x, func_f, \"numpy\")\n",
    "    width = (b-a)/partition_num\n",
    "    area = 0.5 * width *(func_f_lamd(init_val) + func_f_lamd(end_val) + 2*sum([func_f_lamd(init_val + width*end_val) for n in range(1,partition_num)]))\n",
    "    return area\n",
    "\n",
    "# 문제 (a)\n",
    "print(\"문제 (a)\")\n",
    "x = sym.Symbol('x')\n",
    "f = x**3+4\n",
    "a = 1\n",
    "b = 4\n",
    "num = 7\n",
    "trap_int = trapzoid_integral(f, a, b, num)\n",
    "print(\"사다리꼴 방법을 활용한 적분값의 근삿값 = \", trap_int)\n",
    "\n",
    "x = sym.Symbol('x')\n",
    "int_f = sym.integrate(f, (x, a, b))\n",
    "\n",
    "print(\"정적분값 = \", int_f)\n",
    "print(\"오차 = \", int_f - trap_int)\n",
    "print(\"\\n\")\n",
    "\n",
    "# 문제 (b)\n",
    "print(\"문제 (b)\")\n",
    "x = sym.Symbol('x')\n",
    "f = x*sym.exp(x)\n",
    "a = 0\n",
    "b = 1.5\n",
    "num = 3\n",
    "trap_int = trapzoid_integral(f, a, b, num)\n",
    "print(\"사다리꼴 방법을 활용한 적분의 근삿값 = \", trap_int)\n",
    "\n",
    "x = sym.Symbol('x')\n",
    "int_f = sym.integrate(f, (x, a, b))\n",
    "\n",
    "print(\"정적분값 = \", int_f)\n",
    "print(\"오차 = \", int_f - trap_int)"
   ]
  }
 ],
 "metadata": {
  "kernelspec": {
   "display_name": "Python 3",
   "language": "python",
   "name": "python3"
  },
  "language_info": {
   "codemirror_mode": {
    "name": "ipython",
    "version": 3
   },
   "file_extension": ".py",
   "mimetype": "text/x-python",
   "name": "python",
   "nbconvert_exporter": "python",
   "pygments_lexer": "ipython3",
   "version": "3.6.12"
  }
 },
 "nbformat": 4,
 "nbformat_minor": 4
}
